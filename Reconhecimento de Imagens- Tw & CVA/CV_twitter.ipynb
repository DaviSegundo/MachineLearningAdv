{
  "nbformat": 4,
  "nbformat_minor": 0,
  "metadata": {
    "colab": {
      "name": "CV_twitter.ipynb",
      "provenance": []
    },
    "kernelspec": {
      "name": "python3",
      "display_name": "Python 3"
    },
    "language_info": {
      "name": "python"
    }
  },
  "cells": [
    {
      "cell_type": "code",
      "metadata": {
        "colab": {
          "base_uri": "https://localhost:8080/"
        },
        "id": "CDYKykHvzwUA",
        "outputId": "3ff81834-e716-4b24-b417-1d7c338ea1f7"
      },
      "source": [
        "!pip install azure-cognitiveservices-vision-computervision"
      ],
      "execution_count": null,
      "outputs": [
        {
          "output_type": "stream",
          "text": [
            "Collecting azure-cognitiveservices-vision-computervision\n",
            "  Downloading azure_cognitiveservices_vision_computervision-0.9.0-py2.py3-none-any.whl (39 kB)\n",
            "Collecting msrest>=0.5.0\n",
            "  Downloading msrest-0.6.21-py2.py3-none-any.whl (85 kB)\n",
            "\u001b[K     |████████████████████████████████| 85 kB 3.5 MB/s \n",
            "\u001b[?25hCollecting azure-common~=1.1\n",
            "  Downloading azure_common-1.1.27-py2.py3-none-any.whl (12 kB)\n",
            "Requirement already satisfied: certifi>=2017.4.17 in /usr/local/lib/python3.7/dist-packages (from msrest>=0.5.0->azure-cognitiveservices-vision-computervision) (2021.5.30)\n",
            "Collecting isodate>=0.6.0\n",
            "  Downloading isodate-0.6.0-py2.py3-none-any.whl (45 kB)\n",
            "\u001b[K     |████████████████████████████████| 45 kB 3.4 MB/s \n",
            "\u001b[?25hRequirement already satisfied: requests-oauthlib>=0.5.0 in /usr/local/lib/python3.7/dist-packages (from msrest>=0.5.0->azure-cognitiveservices-vision-computervision) (1.3.0)\n",
            "Requirement already satisfied: requests~=2.16 in /usr/local/lib/python3.7/dist-packages (from msrest>=0.5.0->azure-cognitiveservices-vision-computervision) (2.23.0)\n",
            "Requirement already satisfied: six in /usr/local/lib/python3.7/dist-packages (from isodate>=0.6.0->msrest>=0.5.0->azure-cognitiveservices-vision-computervision) (1.15.0)\n",
            "Requirement already satisfied: urllib3!=1.25.0,!=1.25.1,<1.26,>=1.21.1 in /usr/local/lib/python3.7/dist-packages (from requests~=2.16->msrest>=0.5.0->azure-cognitiveservices-vision-computervision) (1.24.3)\n",
            "Requirement already satisfied: chardet<4,>=3.0.2 in /usr/local/lib/python3.7/dist-packages (from requests~=2.16->msrest>=0.5.0->azure-cognitiveservices-vision-computervision) (3.0.4)\n",
            "Requirement already satisfied: idna<3,>=2.5 in /usr/local/lib/python3.7/dist-packages (from requests~=2.16->msrest>=0.5.0->azure-cognitiveservices-vision-computervision) (2.10)\n",
            "Requirement already satisfied: oauthlib>=3.0.0 in /usr/local/lib/python3.7/dist-packages (from requests-oauthlib>=0.5.0->msrest>=0.5.0->azure-cognitiveservices-vision-computervision) (3.1.1)\n",
            "Installing collected packages: isodate, msrest, azure-common, azure-cognitiveservices-vision-computervision\n",
            "Successfully installed azure-cognitiveservices-vision-computervision-0.9.0 azure-common-1.1.27 isodate-0.6.0 msrest-0.6.21\n"
          ],
          "name": "stdout"
        }
      ]
    },
    {
      "cell_type": "code",
      "metadata": {
        "id": "h5f9W63ZcykR"
      },
      "source": [
        "import json\n",
        "import tweepy as tw\n",
        "import pandas as pd\n",
        "from msrest.authentication import CognitiveServicesCredentials\n",
        "from azure.cognitiveservices.vision.computervision import ComputerVisionClient\n",
        "from azure.cognitiveservices.vision.computervision.models import VisualFeatureTypes"
      ],
      "execution_count": null,
      "outputs": []
    },
    {
      "cell_type": "markdown",
      "metadata": {
        "id": "uGeelzoyzx1K"
      },
      "source": [
        "## Acessando API do Twitter"
      ]
    },
    {
      "cell_type": "markdown",
      "metadata": {
        "id": "8b85umwTz3at"
      },
      "source": [
        "### Credenciais de Acesso"
      ]
    },
    {
      "cell_type": "code",
      "metadata": {
        "id": "iH0GUdUVxcz6"
      },
      "source": [
        "consumer_key = 'cPuTn1KZnWGrpJWTFRqouByWZ'\n",
        "consumer_secret = 'PaB1cKJc79jFtOe3CCI5K9TsCewzTWEHS57fijObABsy9xqaMt'\n",
        "access_token = '2389463390-lJAgo9ct1HVLNhVwBCl1g1EaJXFrPUhxd1OGrXi'\n",
        "access_secret = '4eRfIrAi8LcHCxsiim1ht1mMbvHOWMvoEOHFVY81P6t98'"
      ],
      "execution_count": null,
      "outputs": []
    },
    {
      "cell_type": "markdown",
      "metadata": {
        "id": "KwjdDDZLz80d"
      },
      "source": [
        "### Autenticando informações"
      ]
    },
    {
      "cell_type": "code",
      "metadata": {
        "id": "4bCr4TD-yXbR"
      },
      "source": [
        "auth = tw.OAuthHandler(consumer_key, consumer_secret)"
      ],
      "execution_count": null,
      "outputs": []
    },
    {
      "cell_type": "code",
      "metadata": {
        "id": "9kcmWlsXykNU"
      },
      "source": [
        "auth.set_access_token(access_token, access_secret)"
      ],
      "execution_count": null,
      "outputs": []
    },
    {
      "cell_type": "code",
      "metadata": {
        "id": "T52fNpjTyqca"
      },
      "source": [
        "api = tw.API(auth)"
      ],
      "execution_count": null,
      "outputs": []
    },
    {
      "cell_type": "markdown",
      "metadata": {
        "id": "vBSZ4cRc0CV7"
      },
      "source": [
        "## Pesquisando Tweets"
      ]
    },
    {
      "cell_type": "code",
      "metadata": {
        "colab": {
          "base_uri": "https://localhost:8080/",
          "height": 1000
        },
        "id": "uGrI69EfjFtn",
        "outputId": "e9db416b-3270-4ade-f5b9-68acb5a0d448"
      },
      "source": [
        "tweets = tw.Cursor(api.search, q='foto', \n",
        "                   since='2019-01-01', lang='pt').items(1)\n",
        "\n",
        "for tweet in tweets:\n",
        "  display(tweet._json)"
      ],
      "execution_count": null,
      "outputs": [
        {
          "output_type": "display_data",
          "data": {
            "text/plain": [
              "{'contributors': None,\n",
              " 'coordinates': None,\n",
              " 'created_at': 'Wed Aug 04 03:00:13 +0000 2021',\n",
              " 'entities': {'hashtags': [],\n",
              "  'media': [{'display_url': 'pic.twitter.com/tuGl1A3kXE',\n",
              "    'expanded_url': 'https://twitter.com/kaol_/status/1422636527692156930/photo/1',\n",
              "    'id': 1422636511367925761,\n",
              "    'id_str': '1422636511367925761',\n",
              "    'indices': [87, 110],\n",
              "    'media_url': 'http://pbs.twimg.com/media/E744XqCWEAERe0C.png',\n",
              "    'media_url_https': 'https://pbs.twimg.com/media/E744XqCWEAERe0C.png',\n",
              "    'sizes': {'large': {'h': 509, 'resize': 'fit', 'w': 680},\n",
              "     'medium': {'h': 509, 'resize': 'fit', 'w': 680},\n",
              "     'small': {'h': 509, 'resize': 'fit', 'w': 680},\n",
              "     'thumb': {'h': 150, 'resize': 'crop', 'w': 150}},\n",
              "    'source_status_id': 1422636527692156930,\n",
              "    'source_status_id_str': '1422636527692156930',\n",
              "    'source_user_id': 39649811,\n",
              "    'source_user_id_str': '39649811',\n",
              "    'type': 'photo',\n",
              "    'url': 'https://t.co/tuGl1A3kXE'}],\n",
              "  'symbols': [],\n",
              "  'urls': [],\n",
              "  'user_mentions': [{'id': 39649811,\n",
              "    'id_str': '39649811',\n",
              "    'indices': [3, 9],\n",
              "    'name': 'Kaol Porfírio | 💖💜💙',\n",
              "    'screen_name': 'kaol_'}]},\n",
              " 'extended_entities': {'media': [{'display_url': 'pic.twitter.com/tuGl1A3kXE',\n",
              "    'expanded_url': 'https://twitter.com/kaol_/status/1422636527692156930/photo/1',\n",
              "    'id': 1422636511367925761,\n",
              "    'id_str': '1422636511367925761',\n",
              "    'indices': [87, 110],\n",
              "    'media_url': 'http://pbs.twimg.com/media/E744XqCWEAERe0C.png',\n",
              "    'media_url_https': 'https://pbs.twimg.com/media/E744XqCWEAERe0C.png',\n",
              "    'sizes': {'large': {'h': 509, 'resize': 'fit', 'w': 680},\n",
              "     'medium': {'h': 509, 'resize': 'fit', 'w': 680},\n",
              "     'small': {'h': 509, 'resize': 'fit', 'w': 680},\n",
              "     'thumb': {'h': 150, 'resize': 'crop', 'w': 150}},\n",
              "    'source_status_id': 1422636527692156930,\n",
              "    'source_status_id_str': '1422636527692156930',\n",
              "    'source_user_id': 39649811,\n",
              "    'source_user_id_str': '39649811',\n",
              "    'type': 'photo',\n",
              "    'url': 'https://t.co/tuGl1A3kXE'}]},\n",
              " 'favorite_count': 0,\n",
              " 'favorited': False,\n",
              " 'geo': None,\n",
              " 'id': 1422754217463328771,\n",
              " 'id_str': '1422754217463328771',\n",
              " 'in_reply_to_screen_name': None,\n",
              " 'in_reply_to_status_id': None,\n",
              " 'in_reply_to_status_id_str': None,\n",
              " 'in_reply_to_user_id': None,\n",
              " 'in_reply_to_user_id_str': None,\n",
              " 'is_quote_status': False,\n",
              " 'lang': 'pt',\n",
              " 'metadata': {'iso_language_code': 'pt', 'result_type': 'recent'},\n",
              " 'place': None,\n",
              " 'possibly_sensitive': False,\n",
              " 'retweet_count': 1948,\n",
              " 'retweeted': False,\n",
              " 'retweeted_status': {'contributors': None,\n",
              "  'coordinates': None,\n",
              "  'created_at': 'Tue Aug 03 19:12:34 +0000 2021',\n",
              "  'entities': {'hashtags': [],\n",
              "   'media': [{'display_url': 'pic.twitter.com/tuGl1A3kXE',\n",
              "     'expanded_url': 'https://twitter.com/kaol_/status/1422636527692156930/photo/1',\n",
              "     'id': 1422636511367925761,\n",
              "     'id_str': '1422636511367925761',\n",
              "     'indices': [76, 99],\n",
              "     'media_url': 'http://pbs.twimg.com/media/E744XqCWEAERe0C.png',\n",
              "     'media_url_https': 'https://pbs.twimg.com/media/E744XqCWEAERe0C.png',\n",
              "     'sizes': {'large': {'h': 509, 'resize': 'fit', 'w': 680},\n",
              "      'medium': {'h': 509, 'resize': 'fit', 'w': 680},\n",
              "      'small': {'h': 509, 'resize': 'fit', 'w': 680},\n",
              "      'thumb': {'h': 150, 'resize': 'crop', 'w': 150}},\n",
              "     'type': 'photo',\n",
              "     'url': 'https://t.co/tuGl1A3kXE'}],\n",
              "   'symbols': [],\n",
              "   'urls': [],\n",
              "   'user_mentions': []},\n",
              "  'extended_entities': {'media': [{'display_url': 'pic.twitter.com/tuGl1A3kXE',\n",
              "     'expanded_url': 'https://twitter.com/kaol_/status/1422636527692156930/photo/1',\n",
              "     'id': 1422636511367925761,\n",
              "     'id_str': '1422636511367925761',\n",
              "     'indices': [76, 99],\n",
              "     'media_url': 'http://pbs.twimg.com/media/E744XqCWEAERe0C.png',\n",
              "     'media_url_https': 'https://pbs.twimg.com/media/E744XqCWEAERe0C.png',\n",
              "     'sizes': {'large': {'h': 509, 'resize': 'fit', 'w': 680},\n",
              "      'medium': {'h': 509, 'resize': 'fit', 'w': 680},\n",
              "      'small': {'h': 509, 'resize': 'fit', 'w': 680},\n",
              "      'thumb': {'h': 150, 'resize': 'crop', 'w': 150}},\n",
              "     'type': 'photo',\n",
              "     'url': 'https://t.co/tuGl1A3kXE'}]},\n",
              "  'favorite_count': 29985,\n",
              "  'favorited': False,\n",
              "  'geo': None,\n",
              "  'id': 1422636527692156930,\n",
              "  'id_str': '1422636527692156930',\n",
              "  'in_reply_to_screen_name': None,\n",
              "  'in_reply_to_status_id': None,\n",
              "  'in_reply_to_status_id_str': None,\n",
              "  'in_reply_to_user_id': None,\n",
              "  'in_reply_to_user_id_str': None,\n",
              "  'is_quote_status': False,\n",
              "  'lang': 'pt',\n",
              "  'metadata': {'iso_language_code': 'pt', 'result_type': 'recent'},\n",
              "  'place': None,\n",
              "  'possibly_sensitive': False,\n",
              "  'retweet_count': 1948,\n",
              "  'retweeted': False,\n",
              "  'source': '<a href=\"https://mobile.twitter.com\" rel=\"nofollow\">Twitter Web App</a>',\n",
              "  'text': 'fiquei olhando a foto e tentando entender o pq circularam a perna da garota https://t.co/tuGl1A3kXE',\n",
              "  'truncated': False,\n",
              "  'user': {'contributors_enabled': False,\n",
              "   'created_at': 'Wed May 13 01:12:29 +0000 2009',\n",
              "   'default_profile': False,\n",
              "   'default_profile_image': False,\n",
              "   'description': 'O Guia do Mochileiro das Galáxias descreve a Kaol como Geek, Gamer, Feminista, Artista e GameDev da @kuupudev\\n\\n[ ela/dela she/her ]',\n",
              "   'entities': {'description': {'urls': []},\n",
              "    'url': {'urls': [{'display_url': 'kaolporfirio.com.br',\n",
              "       'expanded_url': 'http://kaolporfirio.com.br',\n",
              "       'indices': [0, 23],\n",
              "       'url': 'https://t.co/99haOLeuhV'}]}},\n",
              "   'favourites_count': 59329,\n",
              "   'follow_request_sent': False,\n",
              "   'followers_count': 7093,\n",
              "   'following': False,\n",
              "   'friends_count': 1027,\n",
              "   'geo_enabled': True,\n",
              "   'has_extended_profile': True,\n",
              "   'id': 39649811,\n",
              "   'id_str': '39649811',\n",
              "   'is_translation_enabled': False,\n",
              "   'is_translator': False,\n",
              "   'lang': None,\n",
              "   'listed_count': 73,\n",
              "   'location': 'Araranguá, Brasil',\n",
              "   'name': 'Kaol Porfírio | 💖💜💙',\n",
              "   'notifications': False,\n",
              "   'profile_background_color': 'FFFFFF',\n",
              "   'profile_background_image_url': 'http://abs.twimg.com/images/themes/theme12/bg.gif',\n",
              "   'profile_background_image_url_https': 'https://abs.twimg.com/images/themes/theme12/bg.gif',\n",
              "   'profile_background_tile': True,\n",
              "   'profile_banner_url': 'https://pbs.twimg.com/profile_banners/39649811/1492721662',\n",
              "   'profile_image_url': 'http://pbs.twimg.com/profile_images/1347929691953500160/pBnaeaUP_normal.jpg',\n",
              "   'profile_image_url_https': 'https://pbs.twimg.com/profile_images/1347929691953500160/pBnaeaUP_normal.jpg',\n",
              "   'profile_link_color': '73109C',\n",
              "   'profile_sidebar_border_color': '5E5E5E',\n",
              "   'profile_sidebar_fill_color': 'FFFFFF',\n",
              "   'profile_text_color': '3FB500',\n",
              "   'profile_use_background_image': True,\n",
              "   'protected': False,\n",
              "   'screen_name': 'kaol_',\n",
              "   'statuses_count': 39868,\n",
              "   'time_zone': None,\n",
              "   'translator_type': 'none',\n",
              "   'url': 'https://t.co/99haOLeuhV',\n",
              "   'utc_offset': None,\n",
              "   'verified': False,\n",
              "   'withheld_in_countries': []}},\n",
              " 'source': '<a href=\"http://twitter.com/download/iphone\" rel=\"nofollow\">Twitter for iPhone</a>',\n",
              " 'text': 'RT @kaol_: fiquei olhando a foto e tentando entender o pq circularam a perna da garota https://t.co/tuGl1A3kXE',\n",
              " 'truncated': False,\n",
              " 'user': {'contributors_enabled': False,\n",
              "  'created_at': 'Mon Dec 07 02:48:47 +0000 2015',\n",
              "  'default_profile': False,\n",
              "  'default_profile_image': False,\n",
              "  'description': 'belo e imoral',\n",
              "  'entities': {'description': {'urls': []},\n",
              "   'url': {'urls': [{'display_url': 'instagram.com/luizalimav',\n",
              "      'expanded_url': 'http://instagram.com/luizalimav',\n",
              "      'indices': [0, 23],\n",
              "      'url': 'https://t.co/u682aq976c'}]}},\n",
              "  'favourites_count': 32797,\n",
              "  'follow_request_sent': False,\n",
              "  'followers_count': 30008,\n",
              "  'following': False,\n",
              "  'friends_count': 25494,\n",
              "  'geo_enabled': True,\n",
              "  'has_extended_profile': True,\n",
              "  'id': 4400306301,\n",
              "  'id_str': '4400306301',\n",
              "  'is_translation_enabled': False,\n",
              "  'is_translator': False,\n",
              "  'lang': None,\n",
              "  'listed_count': 36,\n",
              "  'location': 'cg',\n",
              "  'name': 'lu iza',\n",
              "  'notifications': False,\n",
              "  'profile_background_color': '000000',\n",
              "  'profile_background_image_url': 'http://abs.twimg.com/images/themes/theme1/bg.png',\n",
              "  'profile_background_image_url_https': 'https://abs.twimg.com/images/themes/theme1/bg.png',\n",
              "  'profile_background_tile': False,\n",
              "  'profile_banner_url': 'https://pbs.twimg.com/profile_banners/4400306301/1627707781',\n",
              "  'profile_image_url': 'http://pbs.twimg.com/profile_images/1421334848346677255/qaikrHq0_normal.jpg',\n",
              "  'profile_image_url_https': 'https://pbs.twimg.com/profile_images/1421334848346677255/qaikrHq0_normal.jpg',\n",
              "  'profile_link_color': 'E81C4F',\n",
              "  'profile_sidebar_border_color': '000000',\n",
              "  'profile_sidebar_fill_color': '000000',\n",
              "  'profile_text_color': '000000',\n",
              "  'profile_use_background_image': False,\n",
              "  'protected': False,\n",
              "  'screen_name': 'mystcfail',\n",
              "  'statuses_count': 62974,\n",
              "  'time_zone': None,\n",
              "  'translator_type': 'regular',\n",
              "  'url': 'https://t.co/u682aq976c',\n",
              "  'utc_offset': None,\n",
              "  'verified': False,\n",
              "  'withheld_in_countries': []}}"
            ]
          },
          "metadata": {
            "tags": []
          }
        }
      ]
    },
    {
      "cell_type": "code",
      "metadata": {
        "id": "_wRujHf1yu9r"
      },
      "source": [
        "tweets = tw.Cursor(api.search, q='data science', \n",
        "                   since='2019-01-01', lang='pt').items(10)"
      ],
      "execution_count": null,
      "outputs": []
    },
    {
      "cell_type": "code",
      "metadata": {
        "colab": {
          "base_uri": "https://localhost:8080/"
        },
        "id": "lXn7VAlV0eTW",
        "outputId": "c73a450f-3d16-4879-de92-b6da4fdd52ae"
      },
      "source": [
        "for tweet in tweets:\n",
        "  print(tweet.text)"
      ],
      "execution_count": null,
      "outputs": [
        {
          "output_type": "stream",
          "text": [
            "@dii_lua @ninadhora @milalaranjeira @avivimota @1iversoDiscreto @marcelapesquisa @luizacaires3 Data flow/science:… https://t.co/cVJEcjcTSM\n",
            "Anseio pelo fim desse concurso estou louco pra voltar a estudar data science\n",
            "@LeticiaHissa Olá Letícia, podes utilizar o Global Fire Atlas: https://t.co/NERenmf9Cp\n",
            "Artigo sobre o GFA: Andela,… https://t.co/61UlnmTwvZ\n",
            "RT @money_personal: Visualização de Dados para Data Science no R (Gráficos)\n",
            "#DataScience #DataVisualization #R(programminglanguage) #Statis…\n",
            "RT @money_personal: Visualização de Dados para Data Science no R (Gráficos)\n",
            "#DataScience #DataVisualization #R(programminglanguage) #Statis…\n",
            "Visualização de Dados para Data Science no R (Gráficos)\n",
            "#DataScience #DataVisualization #R(programminglanguage)… https://t.co/8PwjWpEtjb\n",
            "RT @Unidosdados: Resolvi finalmente criar um grupo para discussão de Data Science, Machine Learning e IA. Acho que dei sorte, porque as pes…\n",
            "RT @Unidosdados: Resolvi finalmente criar um grupo para discussão de Data Science, Machine Learning e IA. Acho que dei sorte, porque as pes…\n",
            "Data science nação zumbi\n",
            "RT @Unidosdados: Resolvi finalmente criar um grupo para discussão de Data Science, Machine Learning e IA. Acho que dei sorte, porque as pes…\n"
          ],
          "name": "stdout"
        }
      ]
    },
    {
      "cell_type": "markdown",
      "metadata": {
        "id": "pEUvN-0yhd_h"
      },
      "source": [
        "### Informações mais detalhadas dos Tweets"
      ]
    },
    {
      "cell_type": "code",
      "metadata": {
        "id": "ygazclpe1QTi"
      },
      "source": [
        "tweets = tw.Cursor(api.search, q='python', \n",
        "                   since='2020-01-01', lang='pt').items(5)"
      ],
      "execution_count": null,
      "outputs": []
    },
    {
      "cell_type": "code",
      "metadata": {
        "colab": {
          "base_uri": "https://localhost:8080/"
        },
        "id": "VlxsU4qj1U90",
        "outputId": "e7d95aa0-427b-4ca2-93d5-838eb6efcea9"
      },
      "source": [
        "for tweet in tweets:\n",
        "  print(tweet.user.screen_name)\n",
        "  print(tweet.user.location)\n",
        "  print(tweet.created_at)\n",
        "  print(tweet.text)\n",
        "  print('-------\\n')"
      ],
      "execution_count": null,
      "outputs": [
        {
          "output_type": "stream",
          "text": [
            "python_volley\n",
            "Rio de Janeiro, Brasil\n",
            "2021-08-04 02:58:05\n",
            "@_renanberger a gente pode ajudá-las nisso! 😍\n",
            "-------\n",
            "\n",
            "python_volley\n",
            "Rio de Janeiro, Brasil\n",
            "2021-08-04 02:54:10\n",
            "estamos a uma vitória da final Brasil! GANHA DA RUSSIAAAAA #VoleiFeminino https://t.co/RlLDIipnJ6\n",
            "-------\n",
            "\n",
            "Ju_hmoraes\n",
            "🇧🇷 SP, Osasco (she/her)\n",
            "2021-08-04 02:50:18\n",
            "era pra ser só 15 dias de pandemia e eu:\n",
            "\n",
            "-entrei no time da UFABC\n",
            "-conheci as melhores pessoas da faculdade +namor… https://t.co/HnBpQAv9c8\n",
            "-------\n",
            "\n",
            "PythonbotBr\n",
            "Brazil\n",
            "2021-08-04 02:49:35\n",
            "RT @SyrusIndustry: O que um desenvolvedor júnior de Java faz?\n",
            "https://t.co/KKKu9HQNaL\n",
            "#Comofazer #c # #desenvolvedor #desenvolvedordejogos…\n",
            "-------\n",
            "\n",
            "SyrusIndustry\n",
            "Roma\n",
            "2021-08-04 02:49:29\n",
            "O que um desenvolvedor júnior de Java faz?\n",
            "https://t.co/KKKu9HQNaL\n",
            "#Comofazer #c # #desenvolvedor… https://t.co/cPyROscAFP\n",
            "-------\n",
            "\n"
          ],
          "name": "stdout"
        }
      ]
    },
    {
      "cell_type": "markdown",
      "metadata": {
        "id": "KCgsdsf0hlEy"
      },
      "source": [
        "### Pesquisando Famosos"
      ]
    },
    {
      "cell_type": "code",
      "metadata": {
        "id": "7DuJuwrB1VlX"
      },
      "source": [
        "famosos = ['cauareymond','aguiarthur','ivetesangalo','ClaudiaLeitte','neymarjr',\n",
        "           'BruMarquezine','mariruybarbosa', 'FePaesLeme','Tatawerneck','FlaviaAleReal',\n",
        "           'julianapaes','dedesecco','SabrinaSato','ahickmann','gusttavo_lima',\n",
        "           'Anitta', 'CarolCastroReal','gio_antonelli','maisa', 'gewbank',\n",
        "           'taisdeverdade','otaviano','bernardipaloma', 'IngridGuimaraes',\n",
        "           'olazaroramos','GalisteuOficial','debranascimento','FioMattheis',\n",
        "           'moalfradique','Nandacostareal']"
      ],
      "execution_count": null,
      "outputs": []
    },
    {
      "cell_type": "code",
      "metadata": {
        "colab": {
          "base_uri": "https://localhost:8080/"
        },
        "id": "ERmXHA7UiGUS",
        "outputId": "9508e6d3-1576-4a17-c569-52c257863697"
      },
      "source": [
        "len(famosos)"
      ],
      "execution_count": null,
      "outputs": [
        {
          "output_type": "execute_result",
          "data": {
            "text/plain": [
              "31"
            ]
          },
          "metadata": {
            "tags": []
          },
          "execution_count": 13
        }
      ]
    },
    {
      "cell_type": "markdown",
      "metadata": {
        "id": "0D_69AWTlSUP"
      },
      "source": [
        "#### Pegando Tweets que tem mídia"
      ]
    },
    {
      "cell_type": "code",
      "metadata": {
        "colab": {
          "base_uri": "https://localhost:8080/"
        },
        "id": "CksDIuawiIuS",
        "outputId": "cc7d72b2-1638-4ec1-ebf0-6acdd322fb95"
      },
      "source": [
        "for famoso in famosos:\n",
        "  tweets = tw.Cursor(api.search, q=famoso, \n",
        "                     since='2020-01-01').items(20)\n",
        "  \n",
        "  print(f'-------------------------------\\nAutor: {famoso}\\n-------------------------------')\n",
        "  \n",
        "  for tweet in tweets:\n",
        "    if 'media' in tweet.entities:\n",
        "      print(tweet.entities['media'][0]['media_url'])"
      ],
      "execution_count": null,
      "outputs": [
        {
          "output_type": "stream",
          "text": [
            "-------------------------------\n",
            "Autor: cauareymond\n",
            "-------------------------------\n",
            "http://pbs.twimg.com/media/E76SUotXsAEjdPf.jpg\n",
            "http://pbs.twimg.com/media/E736QVMWYAwvVGm.jpg\n",
            "http://pbs.twimg.com/ext_tw_video_thumb/1421536203124396035/pu/img/6yCUUs0F3ZZ654kQ.jpg\n",
            "http://pbs.twimg.com/media/E736QVMWYAwvVGm.jpg\n",
            "http://pbs.twimg.com/media/E736QVMWYAwvVGm.jpg\n",
            "http://pbs.twimg.com/media/E736QVMWYAwvVGm.jpg\n",
            "http://pbs.twimg.com/media/E736QVMWYAwvVGm.jpg\n",
            "-------------------------------\n",
            "Autor: aguiarthur\n",
            "-------------------------------\n",
            "http://pbs.twimg.com/ext_tw_video_thumb/1421413128630329345/pu/img/bvoYgS5nqcl2NOqa.jpg\n",
            "http://pbs.twimg.com/ext_tw_video_thumb/1421290639862472705/pu/img/U0kX5yw6EuRniiWU.jpg\n",
            "-------------------------------\n",
            "Autor: ivetesangalo\n",
            "-------------------------------\n",
            "http://pbs.twimg.com/amplify_video_thumb/1422719864381198339/img/vliN10A4I-Ig3xt_.jpg\n",
            "http://pbs.twimg.com/amplify_video_thumb/1422720015699042313/img/E6kM_2DXBbP93g9t.jpg\n",
            "http://pbs.twimg.com/ext_tw_video_thumb/1422711950908219398/pu/img/0aMH0YzWdv7edCWZ.jpg\n",
            "-------------------------------\n",
            "Autor: ClaudiaLeitte\n",
            "-------------------------------\n",
            "http://pbs.twimg.com/ext_tw_video_thumb/1290426234174767105/pu/img/PEGVN_TT4qFlJpC8.jpg\n",
            "http://pbs.twimg.com/ext_tw_video_thumb/1290426234174767105/pu/img/PEGVN_TT4qFlJpC8.jpg\n",
            "http://pbs.twimg.com/ext_tw_video_thumb/1290426234174767105/pu/img/PEGVN_TT4qFlJpC8.jpg\n",
            "http://pbs.twimg.com/ext_tw_video_thumb/1290426234174767105/pu/img/PEGVN_TT4qFlJpC8.jpg\n",
            "http://pbs.twimg.com/ext_tw_video_thumb/1290426234174767105/pu/img/PEGVN_TT4qFlJpC8.jpg\n",
            "http://pbs.twimg.com/ext_tw_video_thumb/1290426234174767105/pu/img/PEGVN_TT4qFlJpC8.jpg\n",
            "http://pbs.twimg.com/media/E75luoQX0AUmfiO.jpg\n",
            "-------------------------------\n",
            "Autor: neymarjr\n",
            "-------------------------------\n",
            "http://pbs.twimg.com/media/E76LxnAXMAMuJqw.jpg\n",
            "http://pbs.twimg.com/media/E7znM5dWYAEdICE.jpg\n",
            "http://pbs.twimg.com/media/DGVGd8ZXYAI29tp.jpg\n",
            "http://pbs.twimg.com/media/E76h_fFXEAAXP8H.jpg\n",
            "http://pbs.twimg.com/media/E735amWXMAMM8ML.jpg\n",
            "http://pbs.twimg.com/media/E76hlD1UYAQ4VCM.jpg\n",
            "http://pbs.twimg.com/media/E75BJvWWEAYT-Jb.jpg\n",
            "-------------------------------\n",
            "Autor: BruMarquezine\n",
            "-------------------------------\n",
            "http://pbs.twimg.com/ext_tw_video_thumb/1369806510319165446/pu/img/zO-3jQ5oO-aj4zY1.jpg\n",
            "http://pbs.twimg.com/ext_tw_video_thumb/1369806510319165446/pu/img/zO-3jQ5oO-aj4zY1.jpg\n",
            "http://pbs.twimg.com/ext_tw_video_thumb/1369806510319165446/pu/img/zO-3jQ5oO-aj4zY1.jpg\n",
            "http://pbs.twimg.com/ext_tw_video_thumb/1369806510319165446/pu/img/zO-3jQ5oO-aj4zY1.jpg\n",
            "http://pbs.twimg.com/ext_tw_video_thumb/1369806510319165446/pu/img/zO-3jQ5oO-aj4zY1.jpg\n",
            "http://pbs.twimg.com/ext_tw_video_thumb/1369806510319165446/pu/img/zO-3jQ5oO-aj4zY1.jpg\n",
            "-------------------------------\n",
            "Autor: mariruybarbosa\n",
            "-------------------------------\n",
            "http://pbs.twimg.com/media/E7kEgw1XsAEAZrJ.jpg\n",
            "-------------------------------\n",
            "Autor: FePaesLeme\n",
            "-------------------------------\n",
            "-------------------------------\n",
            "Autor: Tatawerneck\n",
            "-------------------------------\n",
            "http://pbs.twimg.com/media/E76dmeSXsAMZYkY.jpg\n",
            "-------------------------------\n",
            "Autor: FlaviaAleReal\n",
            "-------------------------------\n",
            "http://pbs.twimg.com/ext_tw_video_thumb/1422640804997312518/pu/img/YnCtti2YOgkUEo8g.jpg\n",
            "http://pbs.twimg.com/media/E731FyXXMAowvKI.jpg\n",
            "http://pbs.twimg.com/ext_tw_video_thumb/1422640804997312518/pu/img/YnCtti2YOgkUEo8g.jpg\n",
            "http://pbs.twimg.com/ext_tw_video_thumb/1422640804997312518/pu/img/YnCtti2YOgkUEo8g.jpg\n",
            "http://pbs.twimg.com/ext_tw_video_thumb/1422640804997312518/pu/img/YnCtti2YOgkUEo8g.jpg\n",
            "http://pbs.twimg.com/ext_tw_video_thumb/1422640804997312518/pu/img/YnCtti2YOgkUEo8g.jpg\n",
            "http://pbs.twimg.com/ext_tw_video_thumb/1047090163875241984/pu/img/cgDW-2Ml9twWqQtM.jpg\n",
            "http://pbs.twimg.com/ext_tw_video_thumb/1422640804997312518/pu/img/YnCtti2YOgkUEo8g.jpg\n",
            "-------------------------------\n",
            "Autor: julianapaes\n",
            "-------------------------------\n",
            "-------------------------------\n",
            "Autor: dedesecco\n",
            "-------------------------------\n",
            "http://pbs.twimg.com/ext_tw_video_thumb/1422574032197722114/pu/img/ybBtcggpRcbNbX7L.jpg\n",
            "http://pbs.twimg.com/ext_tw_video_thumb/1422574032197722114/pu/img/ybBtcggpRcbNbX7L.jpg\n",
            "http://pbs.twimg.com/ext_tw_video_thumb/1422574032197722114/pu/img/ybBtcggpRcbNbX7L.jpg\n",
            "http://pbs.twimg.com/ext_tw_video_thumb/1422574032197722114/pu/img/ybBtcggpRcbNbX7L.jpg\n",
            "http://pbs.twimg.com/ext_tw_video_thumb/1422574032197722114/pu/img/ybBtcggpRcbNbX7L.jpg\n",
            "http://pbs.twimg.com/ext_tw_video_thumb/1422574032197722114/pu/img/ybBtcggpRcbNbX7L.jpg\n",
            "http://pbs.twimg.com/ext_tw_video_thumb/1422574032197722114/pu/img/ybBtcggpRcbNbX7L.jpg\n",
            "-------------------------------\n",
            "Autor: SabrinaSato\n",
            "-------------------------------\n",
            "-------------------------------\n",
            "Autor: ahickmann\n",
            "-------------------------------\n",
            "http://pbs.twimg.com/media/E75PaFBXMAYkJ9h.jpg\n",
            "http://pbs.twimg.com/ext_tw_video_thumb/1422579505068130304/pu/img/_WSTAspUZUVbb4xp.jpg\n",
            "http://pbs.twimg.com/ext_tw_video_thumb/1422579505068130304/pu/img/_WSTAspUZUVbb4xp.jpg\n",
            "http://pbs.twimg.com/media/E70lO5FXsAAbXsz.jpg\n",
            "-------------------------------\n",
            "Autor: gusttavo_lima\n",
            "-------------------------------\n",
            "http://pbs.twimg.com/media/E76gOM8XoAQ6SD4.jpg\n",
            "-------------------------------\n",
            "Autor: Anitta\n",
            "-------------------------------\n",
            "http://pbs.twimg.com/media/E74FDabWQAgoj-S.jpg\n",
            "http://pbs.twimg.com/ext_tw_video_thumb/1422691974474207233/pu/img/aqZWQ9c2qF0LH36d.jpg\n",
            "-------------------------------\n",
            "Autor: CarolCastroReal\n",
            "-------------------------------\n",
            "-------------------------------\n",
            "Autor: gio_antonelli\n",
            "-------------------------------\n",
            "http://pbs.twimg.com/ext_tw_video_thumb/1422602641461370880/pu/img/-FlzLM8Bx6kP6bbu.jpg\n",
            "http://pbs.twimg.com/media/E75fxnHWQAkSZ3u.jpg\n",
            "http://pbs.twimg.com/ext_tw_video_thumb/1422602641461370880/pu/img/-FlzLM8Bx6kP6bbu.jpg\n",
            "http://pbs.twimg.com/ext_tw_video_thumb/1422602641461370880/pu/img/-FlzLM8Bx6kP6bbu.jpg\n",
            "http://pbs.twimg.com/ext_tw_video_thumb/1422602641461370880/pu/img/-FlzLM8Bx6kP6bbu.jpg\n",
            "http://pbs.twimg.com/media/E74GGIPWEA8ZqDy.jpg\n",
            "-------------------------------\n",
            "Autor: maisa\n",
            "-------------------------------\n",
            "http://pbs.twimg.com/media/E76jSDZWQAMBkzs.jpg\n",
            "http://pbs.twimg.com/ext_tw_video_thumb/1422743262583050240/pu/img/EaFe-_B7mQ2jVLT8.jpg\n",
            "http://pbs.twimg.com/ext_tw_video_thumb/1422743262583050240/pu/img/EaFe-_B7mQ2jVLT8.jpg\n",
            "http://pbs.twimg.com/ext_tw_video_thumb/1422743262583050240/pu/img/EaFe-_B7mQ2jVLT8.jpg\n",
            "-------------------------------\n",
            "Autor: cleooficial\n",
            "-------------------------------\n",
            "-------------------------------\n",
            "Autor: gewbank\n",
            "-------------------------------\n",
            "-------------------------------\n",
            "Autor: taisdeverdade\n",
            "-------------------------------\n",
            "http://pbs.twimg.com/media/E76b1OAXsAAxmrK.jpg\n",
            "http://pbs.twimg.com/media/E76b1OAXsAAxmrK.jpg\n",
            "http://pbs.twimg.com/media/E736RhmWYAQyBxF.jpg\n",
            "-------------------------------\n",
            "Autor: otaviano\n",
            "-------------------------------\n",
            "http://pbs.twimg.com/ext_tw_video_thumb/1422640804997312518/pu/img/YnCtti2YOgkUEo8g.jpg\n",
            "http://pbs.twimg.com/media/E76eXveWEAYzk0P.jpg\n",
            "-------------------------------\n",
            "Autor: bernardipaloma\n",
            "-------------------------------\n",
            "http://pbs.twimg.com/media/EpmmxV6W4AEHllP.jpg\n",
            "http://pbs.twimg.com/media/E4c7EExWYAQ5y6k.jpg\n",
            "http://pbs.twimg.com/media/E1IAX21XMAghshi.jpg\n",
            "http://pbs.twimg.com/media/E7oj0jKX0AQochq.jpg\n",
            "http://pbs.twimg.com/media/E7oj0jKX0AQochq.jpg\n",
            "http://pbs.twimg.com/media/E7oj0jKX0AQochq.jpg\n",
            "http://pbs.twimg.com/media/E7oj0jKX0AQochq.jpg\n",
            "http://pbs.twimg.com/media/E7ZGfbOXsAAxSqx.jpg\n",
            "http://pbs.twimg.com/media/E7jbodkX0AIa3x3.jpg\n",
            "http://pbs.twimg.com/media/E7jbodkX0AIa3x3.jpg\n",
            "http://pbs.twimg.com/media/E7jbodkX0AIa3x3.jpg\n",
            "-------------------------------\n",
            "Autor: IngridGuimaraes\n",
            "-------------------------------\n",
            "-------------------------------\n",
            "Autor: olazaroramos\n",
            "-------------------------------\n",
            "http://pbs.twimg.com/ext_tw_video_thumb/1032016452096811008/pu/img/SPd-cxSgi-1Rr8ND.jpg\n",
            "-------------------------------\n",
            "Autor: GalisteuOficial\n",
            "-------------------------------\n",
            "http://pbs.twimg.com/media/E7fFZ-1WEBI3ijd.jpg\n",
            "http://pbs.twimg.com/ext_tw_video_thumb/1422211021477974021/pu/img/U8GC3jVtsmcJPaHy.jpg\n",
            "-------------------------------\n",
            "Autor: debranascimento\n",
            "-------------------------------\n",
            "-------------------------------\n",
            "Autor: FioMattheis\n",
            "-------------------------------\n",
            "http://pbs.twimg.com/media/E7gIAc-WUAYNtYA.jpg\n",
            "-------------------------------\n",
            "Autor: moalfradique\n",
            "-------------------------------\n",
            "-------------------------------\n",
            "Autor: Nandacostareal\n",
            "-------------------------------\n",
            "http://pbs.twimg.com/media/ExzgTPPWEAApTgc.jpg\n"
          ],
          "name": "stdout"
        }
      ]
    },
    {
      "cell_type": "markdown",
      "metadata": {
        "id": "qssiUlKyq_KX"
      },
      "source": [
        "## Streaming de Tweets"
      ]
    },
    {
      "cell_type": "code",
      "metadata": {
        "id": "j-GSY9RzrPWc"
      },
      "source": [
        "class MinhaStreamListener(tw.StreamListener):\n",
        "  \n",
        "  def on_status(self, status):\n",
        "    print(status.user.screen_name)\n",
        "    print(status.user.location)\n",
        "    print(status.created_at)\n",
        "    print(status.text)\n",
        "    if 'media' in status.entities:\n",
        "      print(status.entities['media'][0]['media_url'])\n",
        "    print('-------\\n')"
      ],
      "execution_count": null,
      "outputs": []
    },
    {
      "cell_type": "code",
      "metadata": {
        "id": "eEU_Cg_-q-DJ"
      },
      "source": [
        "minhaStream = None\n",
        "minhaStream = tw.Stream(auth=auth, listener=MinhaStreamListener())\n",
        "minhaStream.filter(track=famosos, languages=['pt'])"
      ],
      "execution_count": null,
      "outputs": []
    },
    {
      "cell_type": "markdown",
      "metadata": {
        "id": "gh-BEtXL1Zak"
      },
      "source": [
        "# Autenticação Azure"
      ]
    },
    {
      "cell_type": "code",
      "metadata": {
        "id": "19uWFgXSsZzQ"
      },
      "source": [
        "credenciais = CognitiveServicesCredentials(\"778938ac0b5d486db1eb57a90d518313\")\n",
        "client_azure = ComputerVisionClient(\"https://study-cv-davisp.cognitiveservices.azure.com/\", \n",
        "                                    credentials=credenciais)"
      ],
      "execution_count": null,
      "outputs": []
    },
    {
      "cell_type": "code",
      "metadata": {
        "colab": {
          "base_uri": "https://localhost:8080/",
          "height": 35
        },
        "id": "e9F5qJls1-OT",
        "outputId": "46e3bebf-5af1-49ca-8f58-64cbd5c46af4"
      },
      "source": [
        "client_azure.api_version"
      ],
      "execution_count": null,
      "outputs": [
        {
          "output_type": "execute_result",
          "data": {
            "application/vnd.google.colaboratory.intrinsic+json": {
              "type": "string"
            },
            "text/plain": [
              "'3.2'"
            ]
          },
          "metadata": {
            "tags": []
          },
          "execution_count": 18
        }
      ]
    },
    {
      "cell_type": "markdown",
      "metadata": {
        "id": "VYFTkV1Y6cnJ"
      },
      "source": [
        "### Imagem que vamos exemplificar o uso do serviço\n",
        "\n",
        "![](http://pbs.twimg.com/media/E736QVMWYAwvVGm.jpg)"
      ]
    },
    {
      "cell_type": "code",
      "metadata": {
        "id": "j8m2ncup2Gnz"
      },
      "source": [
        "image_url = 'http://pbs.twimg.com/media/E736QVMWYAwvVGm.jpg'\n",
        "\n",
        "analyze = client_azure.analyze_image(image_url, visual_features=VisualFeatureTypes)"
      ],
      "execution_count": null,
      "outputs": []
    },
    {
      "cell_type": "code",
      "metadata": {
        "colab": {
          "base_uri": "https://localhost:8080/"
        },
        "id": "WRCEC2FK8i5A",
        "outputId": "1213e513-410f-4f51-d746-c739b8e4aed0"
      },
      "source": [
        "for tag in analyze.tags:\n",
        "  print(tag)"
      ],
      "execution_count": null,
      "outputs": [
        {
          "output_type": "stream",
          "text": [
            "{'additional_properties': {}, 'name': 'human face', 'confidence': 0.997096061706543, 'hint': None}\n",
            "{'additional_properties': {}, 'name': 'person', 'confidence': 0.9928146600723267, 'hint': None}\n",
            "{'additional_properties': {}, 'name': 'clothing', 'confidence': 0.9785021543502808, 'hint': None}\n",
            "{'additional_properties': {}, 'name': 'portrait', 'confidence': 0.9752771854400635, 'hint': None}\n",
            "{'additional_properties': {}, 'name': 'man', 'confidence': 0.9622172117233276, 'hint': None}\n",
            "{'additional_properties': {}, 'name': 'chin', 'confidence': 0.9540568590164185, 'hint': None}\n",
            "{'additional_properties': {}, 'name': 'forehead', 'confidence': 0.9288758039474487, 'hint': None}\n",
            "{'additional_properties': {}, 'name': 'collar', 'confidence': 0.9287994503974915, 'hint': None}\n",
            "{'additional_properties': {}, 'name': 'eyebrow', 'confidence': 0.9205257892608643, 'hint': None}\n",
            "{'additional_properties': {}, 'name': 'facial hair', 'confidence': 0.9081696271896362, 'hint': None}\n",
            "{'additional_properties': {}, 'name': 'human beard', 'confidence': 0.896612823009491, 'hint': None}\n",
            "{'additional_properties': {}, 'name': 'neck', 'confidence': 0.8868337273597717, 'hint': None}\n",
            "{'additional_properties': {}, 'name': 'jaw', 'confidence': 0.8785762786865234, 'hint': None}\n",
            "{'additional_properties': {}, 'name': 'moustache', 'confidence': 0.8720898628234863, 'hint': None}\n",
            "{'additional_properties': {}, 'name': 'cheek', 'confidence': 0.8597806692123413, 'hint': None}\n",
            "{'additional_properties': {}, 'name': 'male person', 'confidence': 0.8489709496498108, 'hint': None}\n",
            "{'additional_properties': {}, 'name': 'quiff', 'confidence': 0.8464162349700928, 'hint': None}\n",
            "{'additional_properties': {}, 'name': 'lip', 'confidence': 0.8462197184562683, 'hint': None}\n",
            "{'additional_properties': {}, 'name': 'gentleman', 'confidence': 0.8418697714805603, 'hint': None}\n",
            "{'additional_properties': {}, 'name': 'headshot', 'confidence': 0.8413532972335815, 'hint': None}\n",
            "{'additional_properties': {}, 'name': 'top', 'confidence': 0.8410946130752563, 'hint': None}\n",
            "{'additional_properties': {}, 'name': 'wall', 'confidence': 0.8179596066474915, 'hint': None}\n",
            "{'additional_properties': {}, 'name': 'wearing', 'confidence': 0.7548493146896362, 'hint': None}\n",
            "{'additional_properties': {}, 'name': 'indoor', 'confidence': 0.6418603658676147, 'hint': None}\n",
            "{'additional_properties': {}, 'name': 'shirt', 'confidence': 0.542406439781189, 'hint': None}\n"
          ],
          "name": "stdout"
        }
      ]
    },
    {
      "cell_type": "code",
      "metadata": {
        "id": "Ncwo2BmWHgjH"
      },
      "source": [
        "analyze_celeb = client_azure.analyze_image_by_domain(\"celebrities\", image_url)"
      ],
      "execution_count": null,
      "outputs": []
    },
    {
      "cell_type": "code",
      "metadata": {
        "colab": {
          "base_uri": "https://localhost:8080/"
        },
        "id": "LKpsiK6LN_SI",
        "outputId": "c22a0895-6101-462d-f472-8bbf68f66480"
      },
      "source": [
        "analyze_celeb.result"
      ],
      "execution_count": null,
      "outputs": [
        {
          "output_type": "execute_result",
          "data": {
            "text/plain": [
              "{'celebrities': [{'confidence': 0.999972939491272,\n",
              "   'faceRectangle': {'height': 388, 'left': 275, 'top': 256, 'width': 388},\n",
              "   'name': 'Caua Reymond'}]}"
            ]
          },
          "metadata": {
            "tags": []
          },
          "execution_count": 22
        }
      ]
    },
    {
      "cell_type": "code",
      "metadata": {
        "colab": {
          "base_uri": "https://localhost:8080/"
        },
        "id": "ErYswvNPH7bO",
        "outputId": "af6f66e3-128e-46ee-8509-e37e7791650b"
      },
      "source": [
        "for celeb in analyze_celeb.result[\"celebrities\"]:\n",
        "  print(celeb['name'])\n",
        "  print(celeb['confidence'])"
      ],
      "execution_count": null,
      "outputs": [
        {
          "output_type": "stream",
          "text": [
            "Caua Reymond\n",
            "0.999972939491272\n"
          ],
          "name": "stdout"
        }
      ]
    },
    {
      "cell_type": "code",
      "metadata": {
        "id": "kD_b__ymOgqz"
      },
      "source": [
        "description = client_azure.describe_image(image_url, 3)"
      ],
      "execution_count": null,
      "outputs": []
    },
    {
      "cell_type": "code",
      "metadata": {
        "colab": {
          "base_uri": "https://localhost:8080/"
        },
        "id": "eFTId6tcOsEW",
        "outputId": "f8c36d4c-acb6-4783-9103-853d0f76c6fe"
      },
      "source": [
        "for caption in description.captions:\n",
        "  print(caption.text)\n",
        "  print(caption.confidence)"
      ],
      "execution_count": null,
      "outputs": [
        {
          "output_type": "stream",
          "text": [
            "Caua Reymond with a beard\n",
            "0.4093928635120392\n"
          ],
          "name": "stdout"
        }
      ]
    },
    {
      "cell_type": "markdown",
      "metadata": {
        "id": "kfgpTSCWSL-G"
      },
      "source": [
        "# Streaming + Vision API"
      ]
    },
    {
      "cell_type": "code",
      "metadata": {
        "id": "UMIaPd4QPKif"
      },
      "source": [
        "class MinhaStreamListener(tw.StreamListener):\n",
        "  \n",
        "  def on_status(self, status):\n",
        "    if 'media' in status.entities:\n",
        "      print(f\"Usuário: {status.user.screen_name}\")\n",
        "      print(f\"Localização: {status.user.location}\")\n",
        "      print(f\"Texto: {status.text}\")\n",
        "\n",
        "      print(f\"\\n\\nImage INFO:\\n\")\n",
        "\n",
        "      \n",
        "      image_url = status.entities['media'][0]['media_url']\n",
        "      print(f\"URL Imagem: {image_url}\")\n",
        "\n",
        "      analyze_celeb = client_azure.analyze_image_by_domain(\"celebrities\", image_url)\n",
        "      list_celeb = [celeb['name'] for celeb in analyze_celeb.result[\"celebrities\"]]\n",
        "      print(f\"Celebridades Detectadas: {list_celeb}\")\n",
        "\n",
        "      description = client_azure.describe_image(image_url, 1)\n",
        "      text_desc = description.captions[0].text\n",
        "      print(f\"Descrição da Imagem: {text_desc}\")\n",
        "\n",
        "      analyze = client_azure.analyze_image(image_url, visual_features=VisualFeatureTypes)\n",
        "      list_tags = [tag.name for tag in analyze.tags]\n",
        "      print(f\"Tags Detectadas: {list_tags}\")\n",
        "\n",
        "      results = {\n",
        "          'name' : status.user.screen_name,\n",
        "          'location' : status.user.location,\n",
        "          'text' : status.text,\n",
        "          'image_url' : image_url,\n",
        "          'celebs' : list_celeb,\n",
        "          'desc' : text_desc,\n",
        "          'tags' : list_tags\n",
        "      }\n",
        "\n",
        "      with open('tweets.txt', 'a') as file:\n",
        "        file.write(json.dumps(results))\n",
        "        file.write('\\n')\n",
        "      \n",
        "    print('--------------------------------------------------\\n')"
      ],
      "execution_count": null,
      "outputs": []
    },
    {
      "cell_type": "code",
      "metadata": {
        "id": "RhgAnKQHKyNe"
      },
      "source": [
        "famosos_id = []\n",
        "\n",
        "for famoso in famosos:\n",
        "  famoso_id = api.get_user(famoso).id_str\n",
        "  famosos_id.append(famoso_id)"
      ],
      "execution_count": null,
      "outputs": []
    },
    {
      "cell_type": "code",
      "metadata": {
        "colab": {
          "base_uri": "https://localhost:8080/",
          "height": 1000
        },
        "id": "HqmO31mASXxj",
        "outputId": "04c25146-32b9-4728-f536-30c2bb3b7408"
      },
      "source": [
        "minhaStream = None\n",
        "minhaStream = tw.Stream(auth=auth, listener=MinhaStreamListener())\n",
        "minhaStream.filter(follow=famosos_id, languages=['pt'])"
      ],
      "execution_count": null,
      "outputs": [
        {
          "output_type": "stream",
          "text": [
            "--------------------------------------------------\n",
            "\n",
            "--------------------------------------------------\n",
            "\n",
            "--------------------------------------------------\n",
            "\n",
            "--------------------------------------------------\n",
            "\n",
            "--------------------------------------------------\n",
            "\n",
            "--------------------------------------------------\n",
            "\n",
            "--------------------------------------------------\n",
            "\n",
            "--------------------------------------------------\n",
            "\n",
            "--------------------------------------------------\n",
            "\n",
            "--------------------------------------------------\n",
            "\n",
            "--------------------------------------------------\n",
            "\n",
            "--------------------------------------------------\n",
            "\n",
            "--------------------------------------------------\n",
            "\n",
            "--------------------------------------------------\n",
            "\n",
            "--------------------------------------------------\n",
            "\n",
            "--------------------------------------------------\n",
            "\n",
            "--------------------------------------------------\n",
            "\n",
            "--------------------------------------------------\n",
            "\n",
            "--------------------------------------------------\n",
            "\n",
            "--------------------------------------------------\n",
            "\n",
            "--------------------------------------------------\n",
            "\n",
            "--------------------------------------------------\n",
            "\n",
            "--------------------------------------------------\n",
            "\n",
            "--------------------------------------------------\n",
            "\n",
            "--------------------------------------------------\n",
            "\n",
            "--------------------------------------------------\n",
            "\n",
            "--------------------------------------------------\n",
            "\n",
            "--------------------------------------------------\n",
            "\n",
            "--------------------------------------------------\n",
            "\n",
            "--------------------------------------------------\n",
            "\n",
            "--------------------------------------------------\n",
            "\n",
            "--------------------------------------------------\n",
            "\n",
            "Usuário: rulesstormborn\n",
            "Localização:  𝐝𝐫𝐨𝐠𝐨𝐧  🔥\n",
            "Texto: @maisa ai, vai começar de novo. já na torcida e nervoso aaaaa\n",
            "https://t.co/QYBVN28IhQ\n",
            "\n",
            "\n",
            "Image INFO:\n",
            "\n",
            "URL Imagem: http://pbs.twimg.com/ext_tw_video_thumb/1420535509663813632/pu/img/c8LFQqbhf0Vyn8wD.jpg\n",
            "Celebridades Detectadas: []\n",
            "Descrição da Imagem: a large dinosaur with people standing around it\n",
            "Tags Detectadas: ['animal', 'mammal', 'sky', 'cloud', 'dinosaur', 'dragon', 'outdoor']\n",
            "--------------------------------------------------\n",
            "\n",
            "--------------------------------------------------\n",
            "\n",
            "--------------------------------------------------\n",
            "\n",
            "--------------------------------------------------\n",
            "\n",
            "--------------------------------------------------\n",
            "\n",
            "--------------------------------------------------\n",
            "\n",
            "--------------------------------------------------\n",
            "\n",
            "--------------------------------------------------\n",
            "\n",
            "--------------------------------------------------\n",
            "\n",
            "--------------------------------------------------\n",
            "\n",
            "--------------------------------------------------\n",
            "\n",
            "--------------------------------------------------\n",
            "\n",
            "--------------------------------------------------\n",
            "\n",
            "--------------------------------------------------\n",
            "\n",
            "--------------------------------------------------\n",
            "\n",
            "--------------------------------------------------\n",
            "\n",
            "--------------------------------------------------\n",
            "\n",
            "--------------------------------------------------\n",
            "\n",
            "--------------------------------------------------\n",
            "\n",
            "--------------------------------------------------\n",
            "\n",
            "--------------------------------------------------\n",
            "\n",
            "--------------------------------------------------\n",
            "\n",
            "Usuário: httpswezey\n",
            "Localização: Suécia \n",
            "Texto: @maisa vai brasil porra \n",
            "https://t.co/3JbnUJcfP7\n",
            "\n",
            "\n",
            "Image INFO:\n",
            "\n",
            "URL Imagem: http://pbs.twimg.com/ext_tw_video_thumb/1412280574887276545/pu/img/hWUgmJ6xupgcvYXP.jpg\n",
            "Celebridades Detectadas: []\n",
            "Descrição da Imagem: no image\n",
            "Tags Detectadas: ['screenshot', 'man', 'clothing', 'person']\n",
            "--------------------------------------------------\n",
            "\n",
            "--------------------------------------------------\n",
            "\n",
            "--------------------------------------------------\n",
            "\n",
            "--------------------------------------------------\n",
            "\n",
            "--------------------------------------------------\n",
            "\n",
            "--------------------------------------------------\n",
            "\n",
            "--------------------------------------------------\n",
            "\n",
            "--------------------------------------------------\n",
            "\n",
            "--------------------------------------------------\n",
            "\n",
            "--------------------------------------------------\n",
            "\n",
            "--------------------------------------------------\n",
            "\n",
            "--------------------------------------------------\n",
            "\n",
            "--------------------------------------------------\n",
            "\n",
            "--------------------------------------------------\n",
            "\n",
            "--------------------------------------------------\n",
            "\n",
            "--------------------------------------------------\n",
            "\n",
            "--------------------------------------------------\n",
            "\n",
            "--------------------------------------------------\n",
            "\n",
            "--------------------------------------------------\n",
            "\n",
            "--------------------------------------------------\n",
            "\n",
            "--------------------------------------------------\n",
            "\n",
            "--------------------------------------------------\n",
            "\n",
            "--------------------------------------------------\n",
            "\n",
            "--------------------------------------------------\n",
            "\n",
            "--------------------------------------------------\n",
            "\n",
            "--------------------------------------------------\n",
            "\n",
            "--------------------------------------------------\n",
            "\n",
            "--------------------------------------------------\n",
            "\n",
            "--------------------------------------------------\n",
            "\n",
            "--------------------------------------------------\n",
            "\n",
            "--------------------------------------------------\n",
            "\n",
            "--------------------------------------------------\n",
            "\n",
            "--------------------------------------------------\n",
            "\n",
            "--------------------------------------------------\n",
            "\n",
            "--------------------------------------------------\n",
            "\n",
            "--------------------------------------------------\n",
            "\n",
            "--------------------------------------------------\n",
            "\n",
            "--------------------------------------------------\n",
            "\n",
            "--------------------------------------------------\n",
            "\n",
            "Usuário: soutientailara\n",
            "Localização: domicile.\n",
            "Texto: @maisa que venha aí prima \n",
            "\n",
            "https://t.co/LZGYXrxZHI\n",
            "\n",
            "\n",
            "Image INFO:\n",
            "\n",
            "URL Imagem: http://pbs.twimg.com/ext_tw_video_thumb/1422090681808478209/pu/img/__cyQlUjw5syZ4Al.jpg\n",
            "Celebridades Detectadas: []\n",
            "Descrição da Imagem: a group of people posing for the camera\n",
            "Tags Detectadas: ['human face', 'person', 'clothing', 'man', 'wall', 'smile', 'indoor', 'soft drink', 'people', 'group']\n",
            "--------------------------------------------------\n",
            "\n",
            "--------------------------------------------------\n",
            "\n",
            "--------------------------------------------------\n",
            "\n",
            "--------------------------------------------------\n",
            "\n",
            "--------------------------------------------------\n",
            "\n",
            "--------------------------------------------------\n",
            "\n",
            "--------------------------------------------------\n",
            "\n",
            "--------------------------------------------------\n",
            "\n",
            "--------------------------------------------------\n",
            "\n",
            "--------------------------------------------------\n",
            "\n",
            "--------------------------------------------------\n",
            "\n",
            "--------------------------------------------------\n",
            "\n",
            "--------------------------------------------------\n",
            "\n",
            "Usuário: WandersonLimaDS\n",
            "Localização: None\n",
            "Texto: @maisa 🙏🙏🙏via meninas https://t.co/pE61uT4Kc9\n",
            "\n",
            "\n",
            "Image INFO:\n",
            "\n",
            "URL Imagem: http://pbs.twimg.com/media/E76qXSvXIAAYdbS.jpg\n",
            "Celebridades Detectadas: []\n",
            "Descrição da Imagem: a man wearing a helmet\n",
            "Tags Detectadas: ['sky', 'clothing', 'person', 'outdoor', 'sunglasses', 'man', 'mountain', 'vacation']\n",
            "--------------------------------------------------\n",
            "\n",
            "--------------------------------------------------\n",
            "\n",
            "--------------------------------------------------\n",
            "\n",
            "--------------------------------------------------\n",
            "\n",
            "--------------------------------------------------\n",
            "\n",
            "--------------------------------------------------\n",
            "\n",
            "--------------------------------------------------\n",
            "\n",
            "--------------------------------------------------\n",
            "\n",
            "--------------------------------------------------\n",
            "\n",
            "--------------------------------------------------\n",
            "\n",
            "--------------------------------------------------\n",
            "\n",
            "--------------------------------------------------\n",
            "\n",
            "--------------------------------------------------\n",
            "\n",
            "--------------------------------------------------\n",
            "\n",
            "--------------------------------------------------\n",
            "\n",
            "--------------------------------------------------\n",
            "\n",
            "--------------------------------------------------\n",
            "\n"
          ],
          "name": "stdout"
        },
        {
          "output_type": "error",
          "ename": "KeyboardInterrupt",
          "evalue": "ignored",
          "traceback": [
            "\u001b[0;31m---------------------------------------------------------------------------\u001b[0m",
            "\u001b[0;31mKeyboardInterrupt\u001b[0m                         Traceback (most recent call last)",
            "\u001b[0;32m<ipython-input-40-169cd0007ee4>\u001b[0m in \u001b[0;36m<module>\u001b[0;34m()\u001b[0m\n\u001b[1;32m      1\u001b[0m \u001b[0mminhaStream\u001b[0m \u001b[0;34m=\u001b[0m \u001b[0;32mNone\u001b[0m\u001b[0;34m\u001b[0m\u001b[0;34m\u001b[0m\u001b[0m\n\u001b[1;32m      2\u001b[0m \u001b[0mminhaStream\u001b[0m \u001b[0;34m=\u001b[0m \u001b[0mtw\u001b[0m\u001b[0;34m.\u001b[0m\u001b[0mStream\u001b[0m\u001b[0;34m(\u001b[0m\u001b[0mauth\u001b[0m\u001b[0;34m=\u001b[0m\u001b[0mauth\u001b[0m\u001b[0;34m,\u001b[0m \u001b[0mlistener\u001b[0m\u001b[0;34m=\u001b[0m\u001b[0mMinhaStreamListener\u001b[0m\u001b[0;34m(\u001b[0m\u001b[0;34m)\u001b[0m\u001b[0;34m)\u001b[0m\u001b[0;34m\u001b[0m\u001b[0;34m\u001b[0m\u001b[0m\n\u001b[0;32m----> 3\u001b[0;31m \u001b[0mminhaStream\u001b[0m\u001b[0;34m.\u001b[0m\u001b[0mfilter\u001b[0m\u001b[0;34m(\u001b[0m\u001b[0mfollow\u001b[0m\u001b[0;34m=\u001b[0m\u001b[0mfamosos_id\u001b[0m\u001b[0;34m,\u001b[0m \u001b[0mlanguages\u001b[0m\u001b[0;34m=\u001b[0m\u001b[0;34m[\u001b[0m\u001b[0;34m'pt'\u001b[0m\u001b[0;34m]\u001b[0m\u001b[0;34m)\u001b[0m\u001b[0;34m\u001b[0m\u001b[0;34m\u001b[0m\u001b[0m\n\u001b[0m",
            "\u001b[0;32m/usr/local/lib/python3.7/dist-packages/tweepy/streaming.py\u001b[0m in \u001b[0;36mfilter\u001b[0;34m(self, follow, track, is_async, locations, stall_warnings, languages, encoding, filter_level)\u001b[0m\n\u001b[1;32m    472\u001b[0m             \u001b[0mself\u001b[0m\u001b[0;34m.\u001b[0m\u001b[0mbody\u001b[0m\u001b[0;34m[\u001b[0m\u001b[0;34m'filter_level'\u001b[0m\u001b[0;34m]\u001b[0m \u001b[0;34m=\u001b[0m \u001b[0mfilter_level\u001b[0m\u001b[0;34m.\u001b[0m\u001b[0mencode\u001b[0m\u001b[0;34m(\u001b[0m\u001b[0mencoding\u001b[0m\u001b[0;34m)\u001b[0m\u001b[0;34m\u001b[0m\u001b[0;34m\u001b[0m\u001b[0m\n\u001b[1;32m    473\u001b[0m         \u001b[0mself\u001b[0m\u001b[0;34m.\u001b[0m\u001b[0msession\u001b[0m\u001b[0;34m.\u001b[0m\u001b[0mparams\u001b[0m \u001b[0;34m=\u001b[0m \u001b[0;34m{\u001b[0m\u001b[0;34m'delimited'\u001b[0m\u001b[0;34m:\u001b[0m \u001b[0;34m'length'\u001b[0m\u001b[0;34m}\u001b[0m\u001b[0;34m\u001b[0m\u001b[0;34m\u001b[0m\u001b[0m\n\u001b[0;32m--> 474\u001b[0;31m         \u001b[0mself\u001b[0m\u001b[0;34m.\u001b[0m\u001b[0m_start\u001b[0m\u001b[0;34m(\u001b[0m\u001b[0mis_async\u001b[0m\u001b[0;34m)\u001b[0m\u001b[0;34m\u001b[0m\u001b[0;34m\u001b[0m\u001b[0m\n\u001b[0m\u001b[1;32m    475\u001b[0m \u001b[0;34m\u001b[0m\u001b[0m\n\u001b[1;32m    476\u001b[0m     def sitestream(self, follow, stall_warnings=False,\n",
            "\u001b[0;32m/usr/local/lib/python3.7/dist-packages/tweepy/streaming.py\u001b[0m in \u001b[0;36m_start\u001b[0;34m(self, is_async)\u001b[0m\n\u001b[1;32m    387\u001b[0m             \u001b[0mself\u001b[0m\u001b[0;34m.\u001b[0m\u001b[0m_thread\u001b[0m\u001b[0;34m.\u001b[0m\u001b[0mstart\u001b[0m\u001b[0;34m(\u001b[0m\u001b[0;34m)\u001b[0m\u001b[0;34m\u001b[0m\u001b[0;34m\u001b[0m\u001b[0m\n\u001b[1;32m    388\u001b[0m         \u001b[0;32melse\u001b[0m\u001b[0;34m:\u001b[0m\u001b[0;34m\u001b[0m\u001b[0;34m\u001b[0m\u001b[0m\n\u001b[0;32m--> 389\u001b[0;31m             \u001b[0mself\u001b[0m\u001b[0;34m.\u001b[0m\u001b[0m_run\u001b[0m\u001b[0;34m(\u001b[0m\u001b[0;34m)\u001b[0m\u001b[0;34m\u001b[0m\u001b[0;34m\u001b[0m\u001b[0m\n\u001b[0m\u001b[1;32m    390\u001b[0m \u001b[0;34m\u001b[0m\u001b[0m\n\u001b[1;32m    391\u001b[0m     \u001b[0;32mdef\u001b[0m \u001b[0mon_closed\u001b[0m\u001b[0;34m(\u001b[0m\u001b[0mself\u001b[0m\u001b[0;34m,\u001b[0m \u001b[0mresp\u001b[0m\u001b[0;34m)\u001b[0m\u001b[0;34m:\u001b[0m\u001b[0;34m\u001b[0m\u001b[0;34m\u001b[0m\u001b[0m\n",
            "\u001b[0;32m/usr/local/lib/python3.7/dist-packages/tweepy/streaming.py\u001b[0m in \u001b[0;36m_run\u001b[0;34m(self)\u001b[0m\n\u001b[1;32m    287\u001b[0m                     \u001b[0mself\u001b[0m\u001b[0;34m.\u001b[0m\u001b[0msnooze_time\u001b[0m \u001b[0;34m=\u001b[0m \u001b[0mself\u001b[0m\u001b[0;34m.\u001b[0m\u001b[0msnooze_time_step\u001b[0m\u001b[0;34m\u001b[0m\u001b[0;34m\u001b[0m\u001b[0m\n\u001b[1;32m    288\u001b[0m                     \u001b[0mself\u001b[0m\u001b[0;34m.\u001b[0m\u001b[0mlistener\u001b[0m\u001b[0;34m.\u001b[0m\u001b[0mon_connect\u001b[0m\u001b[0;34m(\u001b[0m\u001b[0;34m)\u001b[0m\u001b[0;34m\u001b[0m\u001b[0;34m\u001b[0m\u001b[0m\n\u001b[0;32m--> 289\u001b[0;31m                     \u001b[0mself\u001b[0m\u001b[0;34m.\u001b[0m\u001b[0m_read_loop\u001b[0m\u001b[0;34m(\u001b[0m\u001b[0mresp\u001b[0m\u001b[0;34m)\u001b[0m\u001b[0;34m\u001b[0m\u001b[0;34m\u001b[0m\u001b[0m\n\u001b[0m\u001b[1;32m    290\u001b[0m             \u001b[0;32mexcept\u001b[0m \u001b[0;34m(\u001b[0m\u001b[0mTimeout\u001b[0m\u001b[0;34m,\u001b[0m \u001b[0mssl\u001b[0m\u001b[0;34m.\u001b[0m\u001b[0mSSLError\u001b[0m\u001b[0;34m)\u001b[0m \u001b[0;32mas\u001b[0m \u001b[0mexc\u001b[0m\u001b[0;34m:\u001b[0m\u001b[0;34m\u001b[0m\u001b[0;34m\u001b[0m\u001b[0m\n\u001b[1;32m    291\u001b[0m                 \u001b[0;31m# This is still necessary, as a SSLError can actually be\u001b[0m\u001b[0;34m\u001b[0m\u001b[0;34m\u001b[0m\u001b[0;34m\u001b[0m\u001b[0m\n",
            "\u001b[0;32m/usr/local/lib/python3.7/dist-packages/tweepy/streaming.py\u001b[0m in \u001b[0;36m_read_loop\u001b[0;34m(self, resp)\u001b[0m\n\u001b[1;32m    337\u001b[0m             \u001b[0mlength\u001b[0m \u001b[0;34m=\u001b[0m \u001b[0;36m0\u001b[0m\u001b[0;34m\u001b[0m\u001b[0;34m\u001b[0m\u001b[0m\n\u001b[1;32m    338\u001b[0m             \u001b[0;32mwhile\u001b[0m \u001b[0;32mnot\u001b[0m \u001b[0mresp\u001b[0m\u001b[0;34m.\u001b[0m\u001b[0mraw\u001b[0m\u001b[0;34m.\u001b[0m\u001b[0mclosed\u001b[0m\u001b[0;34m:\u001b[0m\u001b[0;34m\u001b[0m\u001b[0;34m\u001b[0m\u001b[0m\n\u001b[0;32m--> 339\u001b[0;31m                 \u001b[0mline\u001b[0m \u001b[0;34m=\u001b[0m \u001b[0mbuf\u001b[0m\u001b[0;34m.\u001b[0m\u001b[0mread_line\u001b[0m\u001b[0;34m(\u001b[0m\u001b[0;34m)\u001b[0m\u001b[0;34m\u001b[0m\u001b[0;34m\u001b[0m\u001b[0m\n\u001b[0m\u001b[1;32m    340\u001b[0m                 \u001b[0mstripped_line\u001b[0m \u001b[0;34m=\u001b[0m \u001b[0mline\u001b[0m\u001b[0;34m.\u001b[0m\u001b[0mstrip\u001b[0m\u001b[0;34m(\u001b[0m\u001b[0;34m)\u001b[0m \u001b[0;32mif\u001b[0m \u001b[0mline\u001b[0m \u001b[0;32melse\u001b[0m \u001b[0mline\u001b[0m \u001b[0;31m# line is sometimes None so we need to check here\u001b[0m\u001b[0;34m\u001b[0m\u001b[0;34m\u001b[0m\u001b[0m\n\u001b[1;32m    341\u001b[0m                 \u001b[0;32mif\u001b[0m \u001b[0;32mnot\u001b[0m \u001b[0mstripped_line\u001b[0m\u001b[0;34m:\u001b[0m\u001b[0;34m\u001b[0m\u001b[0;34m\u001b[0m\u001b[0m\n",
            "\u001b[0;32m/usr/local/lib/python3.7/dist-packages/tweepy/streaming.py\u001b[0m in \u001b[0;36mread_line\u001b[0;34m(self, sep)\u001b[0m\n\u001b[1;32m    198\u001b[0m             \u001b[0;32melse\u001b[0m\u001b[0;34m:\u001b[0m\u001b[0;34m\u001b[0m\u001b[0;34m\u001b[0m\u001b[0m\n\u001b[1;32m    199\u001b[0m                 \u001b[0mstart\u001b[0m \u001b[0;34m=\u001b[0m \u001b[0mlen\u001b[0m\u001b[0;34m(\u001b[0m\u001b[0mself\u001b[0m\u001b[0;34m.\u001b[0m\u001b[0m_buffer\u001b[0m\u001b[0;34m)\u001b[0m\u001b[0;34m\u001b[0m\u001b[0;34m\u001b[0m\u001b[0m\n\u001b[0;32m--> 200\u001b[0;31m             \u001b[0mself\u001b[0m\u001b[0;34m.\u001b[0m\u001b[0m_buffer\u001b[0m \u001b[0;34m+=\u001b[0m \u001b[0mself\u001b[0m\u001b[0;34m.\u001b[0m\u001b[0m_stream\u001b[0m\u001b[0;34m.\u001b[0m\u001b[0mread\u001b[0m\u001b[0;34m(\u001b[0m\u001b[0mself\u001b[0m\u001b[0;34m.\u001b[0m\u001b[0m_chunk_size\u001b[0m\u001b[0;34m)\u001b[0m\u001b[0;34m\u001b[0m\u001b[0;34m\u001b[0m\u001b[0m\n\u001b[0m\u001b[1;32m    201\u001b[0m         \u001b[0;32mreturn\u001b[0m \u001b[0msix\u001b[0m\u001b[0;34m.\u001b[0m\u001b[0mb\u001b[0m\u001b[0;34m(\u001b[0m\u001b[0;34m''\u001b[0m\u001b[0;34m)\u001b[0m\u001b[0;34m\u001b[0m\u001b[0;34m\u001b[0m\u001b[0m\n\u001b[1;32m    202\u001b[0m \u001b[0;34m\u001b[0m\u001b[0m\n",
            "\u001b[0;32m/usr/local/lib/python3.7/dist-packages/urllib3/response.py\u001b[0m in \u001b[0;36mread\u001b[0;34m(self, amt, decode_content, cache_content)\u001b[0m\n\u001b[1;32m    442\u001b[0m             \u001b[0;32melse\u001b[0m\u001b[0;34m:\u001b[0m\u001b[0;34m\u001b[0m\u001b[0;34m\u001b[0m\u001b[0m\n\u001b[1;32m    443\u001b[0m                 \u001b[0mcache_content\u001b[0m \u001b[0;34m=\u001b[0m \u001b[0;32mFalse\u001b[0m\u001b[0;34m\u001b[0m\u001b[0;34m\u001b[0m\u001b[0m\n\u001b[0;32m--> 444\u001b[0;31m                 \u001b[0mdata\u001b[0m \u001b[0;34m=\u001b[0m \u001b[0mself\u001b[0m\u001b[0;34m.\u001b[0m\u001b[0m_fp\u001b[0m\u001b[0;34m.\u001b[0m\u001b[0mread\u001b[0m\u001b[0;34m(\u001b[0m\u001b[0mamt\u001b[0m\u001b[0;34m)\u001b[0m\u001b[0;34m\u001b[0m\u001b[0;34m\u001b[0m\u001b[0m\n\u001b[0m\u001b[1;32m    445\u001b[0m                 \u001b[0;32mif\u001b[0m \u001b[0mamt\u001b[0m \u001b[0;34m!=\u001b[0m \u001b[0;36m0\u001b[0m \u001b[0;32mand\u001b[0m \u001b[0;32mnot\u001b[0m \u001b[0mdata\u001b[0m\u001b[0;34m:\u001b[0m  \u001b[0;31m# Platform-specific: Buggy versions of Python.\u001b[0m\u001b[0;34m\u001b[0m\u001b[0;34m\u001b[0m\u001b[0m\n\u001b[1;32m    446\u001b[0m                     \u001b[0;31m# Close the connection when no data is returned\u001b[0m\u001b[0;34m\u001b[0m\u001b[0;34m\u001b[0m\u001b[0;34m\u001b[0m\u001b[0m\n",
            "\u001b[0;32m/usr/lib/python3.7/http/client.py\u001b[0m in \u001b[0;36mread\u001b[0;34m(self, amt)\u001b[0m\n\u001b[1;32m    463\u001b[0m             \u001b[0;31m# Amount is given, implement using readinto\u001b[0m\u001b[0;34m\u001b[0m\u001b[0;34m\u001b[0m\u001b[0;34m\u001b[0m\u001b[0m\n\u001b[1;32m    464\u001b[0m             \u001b[0mb\u001b[0m \u001b[0;34m=\u001b[0m \u001b[0mbytearray\u001b[0m\u001b[0;34m(\u001b[0m\u001b[0mamt\u001b[0m\u001b[0;34m)\u001b[0m\u001b[0;34m\u001b[0m\u001b[0;34m\u001b[0m\u001b[0m\n\u001b[0;32m--> 465\u001b[0;31m             \u001b[0mn\u001b[0m \u001b[0;34m=\u001b[0m \u001b[0mself\u001b[0m\u001b[0;34m.\u001b[0m\u001b[0mreadinto\u001b[0m\u001b[0;34m(\u001b[0m\u001b[0mb\u001b[0m\u001b[0;34m)\u001b[0m\u001b[0;34m\u001b[0m\u001b[0;34m\u001b[0m\u001b[0m\n\u001b[0m\u001b[1;32m    466\u001b[0m             \u001b[0;32mreturn\u001b[0m \u001b[0mmemoryview\u001b[0m\u001b[0;34m(\u001b[0m\u001b[0mb\u001b[0m\u001b[0;34m)\u001b[0m\u001b[0;34m[\u001b[0m\u001b[0;34m:\u001b[0m\u001b[0mn\u001b[0m\u001b[0;34m]\u001b[0m\u001b[0;34m.\u001b[0m\u001b[0mtobytes\u001b[0m\u001b[0;34m(\u001b[0m\u001b[0;34m)\u001b[0m\u001b[0;34m\u001b[0m\u001b[0;34m\u001b[0m\u001b[0m\n\u001b[1;32m    467\u001b[0m         \u001b[0;32melse\u001b[0m\u001b[0;34m:\u001b[0m\u001b[0;34m\u001b[0m\u001b[0;34m\u001b[0m\u001b[0m\n",
            "\u001b[0;32m/usr/lib/python3.7/http/client.py\u001b[0m in \u001b[0;36mreadinto\u001b[0;34m(self, b)\u001b[0m\n\u001b[1;32m    497\u001b[0m \u001b[0;34m\u001b[0m\u001b[0m\n\u001b[1;32m    498\u001b[0m         \u001b[0;32mif\u001b[0m \u001b[0mself\u001b[0m\u001b[0;34m.\u001b[0m\u001b[0mchunked\u001b[0m\u001b[0;34m:\u001b[0m\u001b[0;34m\u001b[0m\u001b[0;34m\u001b[0m\u001b[0m\n\u001b[0;32m--> 499\u001b[0;31m             \u001b[0;32mreturn\u001b[0m \u001b[0mself\u001b[0m\u001b[0;34m.\u001b[0m\u001b[0m_readinto_chunked\u001b[0m\u001b[0;34m(\u001b[0m\u001b[0mb\u001b[0m\u001b[0;34m)\u001b[0m\u001b[0;34m\u001b[0m\u001b[0;34m\u001b[0m\u001b[0m\n\u001b[0m\u001b[1;32m    500\u001b[0m \u001b[0;34m\u001b[0m\u001b[0m\n\u001b[1;32m    501\u001b[0m         \u001b[0;32mif\u001b[0m \u001b[0mself\u001b[0m\u001b[0;34m.\u001b[0m\u001b[0mlength\u001b[0m \u001b[0;32mis\u001b[0m \u001b[0;32mnot\u001b[0m \u001b[0;32mNone\u001b[0m\u001b[0;34m:\u001b[0m\u001b[0;34m\u001b[0m\u001b[0;34m\u001b[0m\u001b[0m\n",
            "\u001b[0;32m/usr/lib/python3.7/http/client.py\u001b[0m in \u001b[0;36m_readinto_chunked\u001b[0;34m(self, b)\u001b[0m\n\u001b[1;32m    592\u001b[0m         \u001b[0;32mtry\u001b[0m\u001b[0;34m:\u001b[0m\u001b[0;34m\u001b[0m\u001b[0;34m\u001b[0m\u001b[0m\n\u001b[1;32m    593\u001b[0m             \u001b[0;32mwhile\u001b[0m \u001b[0;32mTrue\u001b[0m\u001b[0;34m:\u001b[0m\u001b[0;34m\u001b[0m\u001b[0;34m\u001b[0m\u001b[0m\n\u001b[0;32m--> 594\u001b[0;31m                 \u001b[0mchunk_left\u001b[0m \u001b[0;34m=\u001b[0m \u001b[0mself\u001b[0m\u001b[0;34m.\u001b[0m\u001b[0m_get_chunk_left\u001b[0m\u001b[0;34m(\u001b[0m\u001b[0;34m)\u001b[0m\u001b[0;34m\u001b[0m\u001b[0;34m\u001b[0m\u001b[0m\n\u001b[0m\u001b[1;32m    595\u001b[0m                 \u001b[0;32mif\u001b[0m \u001b[0mchunk_left\u001b[0m \u001b[0;32mis\u001b[0m \u001b[0;32mNone\u001b[0m\u001b[0;34m:\u001b[0m\u001b[0;34m\u001b[0m\u001b[0;34m\u001b[0m\u001b[0m\n\u001b[1;32m    596\u001b[0m                     \u001b[0;32mreturn\u001b[0m \u001b[0mtotal_bytes\u001b[0m\u001b[0;34m\u001b[0m\u001b[0;34m\u001b[0m\u001b[0m\n",
            "\u001b[0;32m/usr/lib/python3.7/http/client.py\u001b[0m in \u001b[0;36m_get_chunk_left\u001b[0;34m(self)\u001b[0m\n\u001b[1;32m    560\u001b[0m                 \u001b[0mself\u001b[0m\u001b[0;34m.\u001b[0m\u001b[0m_safe_read\u001b[0m\u001b[0;34m(\u001b[0m\u001b[0;36m2\u001b[0m\u001b[0;34m)\u001b[0m  \u001b[0;31m# toss the CRLF at the end of the chunk\u001b[0m\u001b[0;34m\u001b[0m\u001b[0;34m\u001b[0m\u001b[0m\n\u001b[1;32m    561\u001b[0m             \u001b[0;32mtry\u001b[0m\u001b[0;34m:\u001b[0m\u001b[0;34m\u001b[0m\u001b[0;34m\u001b[0m\u001b[0m\n\u001b[0;32m--> 562\u001b[0;31m                 \u001b[0mchunk_left\u001b[0m \u001b[0;34m=\u001b[0m \u001b[0mself\u001b[0m\u001b[0;34m.\u001b[0m\u001b[0m_read_next_chunk_size\u001b[0m\u001b[0;34m(\u001b[0m\u001b[0;34m)\u001b[0m\u001b[0;34m\u001b[0m\u001b[0;34m\u001b[0m\u001b[0m\n\u001b[0m\u001b[1;32m    563\u001b[0m             \u001b[0;32mexcept\u001b[0m \u001b[0mValueError\u001b[0m\u001b[0;34m:\u001b[0m\u001b[0;34m\u001b[0m\u001b[0;34m\u001b[0m\u001b[0m\n\u001b[1;32m    564\u001b[0m                 \u001b[0;32mraise\u001b[0m \u001b[0mIncompleteRead\u001b[0m\u001b[0;34m(\u001b[0m\u001b[0;34mb''\u001b[0m\u001b[0;34m)\u001b[0m\u001b[0;34m\u001b[0m\u001b[0;34m\u001b[0m\u001b[0m\n",
            "\u001b[0;32m/usr/lib/python3.7/http/client.py\u001b[0m in \u001b[0;36m_read_next_chunk_size\u001b[0;34m(self)\u001b[0m\n\u001b[1;32m    520\u001b[0m     \u001b[0;32mdef\u001b[0m \u001b[0m_read_next_chunk_size\u001b[0m\u001b[0;34m(\u001b[0m\u001b[0mself\u001b[0m\u001b[0;34m)\u001b[0m\u001b[0;34m:\u001b[0m\u001b[0;34m\u001b[0m\u001b[0;34m\u001b[0m\u001b[0m\n\u001b[1;32m    521\u001b[0m         \u001b[0;31m# Read the next chunk size from the file\u001b[0m\u001b[0;34m\u001b[0m\u001b[0;34m\u001b[0m\u001b[0;34m\u001b[0m\u001b[0m\n\u001b[0;32m--> 522\u001b[0;31m         \u001b[0mline\u001b[0m \u001b[0;34m=\u001b[0m \u001b[0mself\u001b[0m\u001b[0;34m.\u001b[0m\u001b[0mfp\u001b[0m\u001b[0;34m.\u001b[0m\u001b[0mreadline\u001b[0m\u001b[0;34m(\u001b[0m\u001b[0m_MAXLINE\u001b[0m \u001b[0;34m+\u001b[0m \u001b[0;36m1\u001b[0m\u001b[0;34m)\u001b[0m\u001b[0;34m\u001b[0m\u001b[0;34m\u001b[0m\u001b[0m\n\u001b[0m\u001b[1;32m    523\u001b[0m         \u001b[0;32mif\u001b[0m \u001b[0mlen\u001b[0m\u001b[0;34m(\u001b[0m\u001b[0mline\u001b[0m\u001b[0;34m)\u001b[0m \u001b[0;34m>\u001b[0m \u001b[0m_MAXLINE\u001b[0m\u001b[0;34m:\u001b[0m\u001b[0;34m\u001b[0m\u001b[0;34m\u001b[0m\u001b[0m\n\u001b[1;32m    524\u001b[0m             \u001b[0;32mraise\u001b[0m \u001b[0mLineTooLong\u001b[0m\u001b[0;34m(\u001b[0m\u001b[0;34m\"chunk size\"\u001b[0m\u001b[0;34m)\u001b[0m\u001b[0;34m\u001b[0m\u001b[0;34m\u001b[0m\u001b[0m\n",
            "\u001b[0;32m/usr/lib/python3.7/socket.py\u001b[0m in \u001b[0;36mreadinto\u001b[0;34m(self, b)\u001b[0m\n\u001b[1;32m    587\u001b[0m         \u001b[0;32mwhile\u001b[0m \u001b[0;32mTrue\u001b[0m\u001b[0;34m:\u001b[0m\u001b[0;34m\u001b[0m\u001b[0;34m\u001b[0m\u001b[0m\n\u001b[1;32m    588\u001b[0m             \u001b[0;32mtry\u001b[0m\u001b[0;34m:\u001b[0m\u001b[0;34m\u001b[0m\u001b[0;34m\u001b[0m\u001b[0m\n\u001b[0;32m--> 589\u001b[0;31m                 \u001b[0;32mreturn\u001b[0m \u001b[0mself\u001b[0m\u001b[0;34m.\u001b[0m\u001b[0m_sock\u001b[0m\u001b[0;34m.\u001b[0m\u001b[0mrecv_into\u001b[0m\u001b[0;34m(\u001b[0m\u001b[0mb\u001b[0m\u001b[0;34m)\u001b[0m\u001b[0;34m\u001b[0m\u001b[0;34m\u001b[0m\u001b[0m\n\u001b[0m\u001b[1;32m    590\u001b[0m             \u001b[0;32mexcept\u001b[0m \u001b[0mtimeout\u001b[0m\u001b[0;34m:\u001b[0m\u001b[0;34m\u001b[0m\u001b[0;34m\u001b[0m\u001b[0m\n\u001b[1;32m    591\u001b[0m                 \u001b[0mself\u001b[0m\u001b[0;34m.\u001b[0m\u001b[0m_timeout_occurred\u001b[0m \u001b[0;34m=\u001b[0m \u001b[0;32mTrue\u001b[0m\u001b[0;34m\u001b[0m\u001b[0;34m\u001b[0m\u001b[0m\n",
            "\u001b[0;32m/usr/lib/python3.7/ssl.py\u001b[0m in \u001b[0;36mrecv_into\u001b[0;34m(self, buffer, nbytes, flags)\u001b[0m\n\u001b[1;32m   1069\u001b[0m                   \u001b[0;34m\"non-zero flags not allowed in calls to recv_into() on %s\"\u001b[0m \u001b[0;34m%\u001b[0m\u001b[0;34m\u001b[0m\u001b[0;34m\u001b[0m\u001b[0m\n\u001b[1;32m   1070\u001b[0m                   self.__class__)\n\u001b[0;32m-> 1071\u001b[0;31m             \u001b[0;32mreturn\u001b[0m \u001b[0mself\u001b[0m\u001b[0;34m.\u001b[0m\u001b[0mread\u001b[0m\u001b[0;34m(\u001b[0m\u001b[0mnbytes\u001b[0m\u001b[0;34m,\u001b[0m \u001b[0mbuffer\u001b[0m\u001b[0;34m)\u001b[0m\u001b[0;34m\u001b[0m\u001b[0;34m\u001b[0m\u001b[0m\n\u001b[0m\u001b[1;32m   1072\u001b[0m         \u001b[0;32melse\u001b[0m\u001b[0;34m:\u001b[0m\u001b[0;34m\u001b[0m\u001b[0;34m\u001b[0m\u001b[0m\n\u001b[1;32m   1073\u001b[0m             \u001b[0;32mreturn\u001b[0m \u001b[0msuper\u001b[0m\u001b[0;34m(\u001b[0m\u001b[0;34m)\u001b[0m\u001b[0;34m.\u001b[0m\u001b[0mrecv_into\u001b[0m\u001b[0;34m(\u001b[0m\u001b[0mbuffer\u001b[0m\u001b[0;34m,\u001b[0m \u001b[0mnbytes\u001b[0m\u001b[0;34m,\u001b[0m \u001b[0mflags\u001b[0m\u001b[0;34m)\u001b[0m\u001b[0;34m\u001b[0m\u001b[0;34m\u001b[0m\u001b[0m\n",
            "\u001b[0;32m/usr/lib/python3.7/ssl.py\u001b[0m in \u001b[0;36mread\u001b[0;34m(self, len, buffer)\u001b[0m\n\u001b[1;32m    927\u001b[0m         \u001b[0;32mtry\u001b[0m\u001b[0;34m:\u001b[0m\u001b[0;34m\u001b[0m\u001b[0;34m\u001b[0m\u001b[0m\n\u001b[1;32m    928\u001b[0m             \u001b[0;32mif\u001b[0m \u001b[0mbuffer\u001b[0m \u001b[0;32mis\u001b[0m \u001b[0;32mnot\u001b[0m \u001b[0;32mNone\u001b[0m\u001b[0;34m:\u001b[0m\u001b[0;34m\u001b[0m\u001b[0;34m\u001b[0m\u001b[0m\n\u001b[0;32m--> 929\u001b[0;31m                 \u001b[0;32mreturn\u001b[0m \u001b[0mself\u001b[0m\u001b[0;34m.\u001b[0m\u001b[0m_sslobj\u001b[0m\u001b[0;34m.\u001b[0m\u001b[0mread\u001b[0m\u001b[0;34m(\u001b[0m\u001b[0mlen\u001b[0m\u001b[0;34m,\u001b[0m \u001b[0mbuffer\u001b[0m\u001b[0;34m)\u001b[0m\u001b[0;34m\u001b[0m\u001b[0;34m\u001b[0m\u001b[0m\n\u001b[0m\u001b[1;32m    930\u001b[0m             \u001b[0;32melse\u001b[0m\u001b[0;34m:\u001b[0m\u001b[0;34m\u001b[0m\u001b[0;34m\u001b[0m\u001b[0m\n\u001b[1;32m    931\u001b[0m                 \u001b[0;32mreturn\u001b[0m \u001b[0mself\u001b[0m\u001b[0;34m.\u001b[0m\u001b[0m_sslobj\u001b[0m\u001b[0;34m.\u001b[0m\u001b[0mread\u001b[0m\u001b[0;34m(\u001b[0m\u001b[0mlen\u001b[0m\u001b[0;34m)\u001b[0m\u001b[0;34m\u001b[0m\u001b[0;34m\u001b[0m\u001b[0m\n",
            "\u001b[0;31mKeyboardInterrupt\u001b[0m: "
          ]
        }
      ]
    },
    {
      "cell_type": "code",
      "metadata": {
        "id": "MkGLTgP7VoWL"
      },
      "source": [
        "list_file = []\n",
        "\n",
        "with open('tweets.txt', 'r') as file:\n",
        "  for line in file:\n",
        "    list_file.append(json.loads(line))"
      ],
      "execution_count": null,
      "outputs": []
    },
    {
      "cell_type": "code",
      "metadata": {
        "colab": {
          "base_uri": "https://localhost:8080/",
          "height": 479
        },
        "id": "ImUlLwH2PM_i",
        "outputId": "d4b51289-c313-4a0c-9ec5-68abfa075a98"
      },
      "source": [
        "df = pd.DataFrame(list_file)\n",
        "df"
      ],
      "execution_count": null,
      "outputs": [
        {
          "output_type": "execute_result",
          "data": {
            "text/html": [
              "<div>\n",
              "<style scoped>\n",
              "    .dataframe tbody tr th:only-of-type {\n",
              "        vertical-align: middle;\n",
              "    }\n",
              "\n",
              "    .dataframe tbody tr th {\n",
              "        vertical-align: top;\n",
              "    }\n",
              "\n",
              "    .dataframe thead th {\n",
              "        text-align: right;\n",
              "    }\n",
              "</style>\n",
              "<table border=\"1\" class=\"dataframe\">\n",
              "  <thead>\n",
              "    <tr style=\"text-align: right;\">\n",
              "      <th></th>\n",
              "      <th>name</th>\n",
              "      <th>location</th>\n",
              "      <th>text</th>\n",
              "      <th>image_url</th>\n",
              "      <th>celebs</th>\n",
              "      <th>desc</th>\n",
              "      <th>tags</th>\n",
              "    </tr>\n",
              "  </thead>\n",
              "  <tbody>\n",
              "    <tr>\n",
              "      <th>0</th>\n",
              "      <td>rulesstormborn</td>\n",
              "      <td>𝐝𝐫𝐨𝐠𝐨𝐧  🔥</td>\n",
              "      <td>@maisa ai, vai começar de novo. já na torcida ...</td>\n",
              "      <td>http://pbs.twimg.com/ext_tw_video_thumb/142053...</td>\n",
              "      <td>[]</td>\n",
              "      <td>a large dinosaur with people standing around it</td>\n",
              "      <td>[animal, mammal, sky, cloud, dinosaur, dragon,...</td>\n",
              "    </tr>\n",
              "    <tr>\n",
              "      <th>1</th>\n",
              "      <td>httpswezey</td>\n",
              "      <td>Suécia</td>\n",
              "      <td>@maisa vai brasil porra \\nhttps://t.co/3JbnUJcfP7</td>\n",
              "      <td>http://pbs.twimg.com/ext_tw_video_thumb/141228...</td>\n",
              "      <td>[]</td>\n",
              "      <td>no image</td>\n",
              "      <td>[screenshot, man, clothing, person]</td>\n",
              "    </tr>\n",
              "    <tr>\n",
              "      <th>2</th>\n",
              "      <td>soutientailara</td>\n",
              "      <td>domicile.</td>\n",
              "      <td>@maisa que venha aí prima \\n\\nhttps://t.co/LZG...</td>\n",
              "      <td>http://pbs.twimg.com/ext_tw_video_thumb/142209...</td>\n",
              "      <td>[]</td>\n",
              "      <td>a group of people posing for the camera</td>\n",
              "      <td>[human face, person, clothing, man, wall, smil...</td>\n",
              "    </tr>\n",
              "    <tr>\n",
              "      <th>3</th>\n",
              "      <td>WandersonLimaDS</td>\n",
              "      <td>None</td>\n",
              "      <td>@maisa 🙏🙏🙏via meninas https://t.co/pE61uT4Kc9</td>\n",
              "      <td>http://pbs.twimg.com/media/E76qXSvXIAAYdbS.jpg</td>\n",
              "      <td>[]</td>\n",
              "      <td>a man wearing a helmet</td>\n",
              "      <td>[sky, clothing, person, outdoor, sunglasses, m...</td>\n",
              "    </tr>\n",
              "  </tbody>\n",
              "</table>\n",
              "</div>"
            ],
            "text/plain": [
              "              name  ...                                               tags\n",
              "0   rulesstormborn  ...  [animal, mammal, sky, cloud, dinosaur, dragon,...\n",
              "1       httpswezey  ...                [screenshot, man, clothing, person]\n",
              "2   soutientailara  ...  [human face, person, clothing, man, wall, smil...\n",
              "3  WandersonLimaDS  ...  [sky, clothing, person, outdoor, sunglasses, m...\n",
              "\n",
              "[4 rows x 7 columns]"
            ]
          },
          "metadata": {
            "tags": []
          },
          "execution_count": 50
        }
      ]
    },
    {
      "cell_type": "code",
      "metadata": {
        "colab": {
          "base_uri": "https://localhost:8080/"
        },
        "id": "OKDDQB2SP3Qi",
        "outputId": "e1326a1b-e9b8-493f-867c-518be5bbe86d"
      },
      "source": [
        "search = 'human face'\n",
        "\n",
        "found = [(search in tag) for tag in df.tags]\n",
        "found"
      ],
      "execution_count": null,
      "outputs": [
        {
          "output_type": "execute_result",
          "data": {
            "text/plain": [
              "[False, False, True, False]"
            ]
          },
          "metadata": {
            "tags": []
          },
          "execution_count": 52
        }
      ]
    },
    {
      "cell_type": "code",
      "metadata": {
        "colab": {
          "base_uri": "https://localhost:8080/",
          "height": 148
        },
        "id": "TD78qpC4RdhE",
        "outputId": "936ce94c-1e60-4d6c-e968-c75579395fd3"
      },
      "source": [
        "df[found]"
      ],
      "execution_count": null,
      "outputs": [
        {
          "output_type": "execute_result",
          "data": {
            "text/html": [
              "<div>\n",
              "<style scoped>\n",
              "    .dataframe tbody tr th:only-of-type {\n",
              "        vertical-align: middle;\n",
              "    }\n",
              "\n",
              "    .dataframe tbody tr th {\n",
              "        vertical-align: top;\n",
              "    }\n",
              "\n",
              "    .dataframe thead th {\n",
              "        text-align: right;\n",
              "    }\n",
              "</style>\n",
              "<table border=\"1\" class=\"dataframe\">\n",
              "  <thead>\n",
              "    <tr style=\"text-align: right;\">\n",
              "      <th></th>\n",
              "      <th>name</th>\n",
              "      <th>location</th>\n",
              "      <th>text</th>\n",
              "      <th>image_url</th>\n",
              "      <th>celebs</th>\n",
              "      <th>desc</th>\n",
              "      <th>tags</th>\n",
              "    </tr>\n",
              "  </thead>\n",
              "  <tbody>\n",
              "    <tr>\n",
              "      <th>2</th>\n",
              "      <td>soutientailara</td>\n",
              "      <td>domicile.</td>\n",
              "      <td>@maisa que venha aí prima \\n\\nhttps://t.co/LZG...</td>\n",
              "      <td>http://pbs.twimg.com/ext_tw_video_thumb/142209...</td>\n",
              "      <td>[]</td>\n",
              "      <td>a group of people posing for the camera</td>\n",
              "      <td>[human face, person, clothing, man, wall, smil...</td>\n",
              "    </tr>\n",
              "  </tbody>\n",
              "</table>\n",
              "</div>"
            ],
            "text/plain": [
              "             name  ...                                               tags\n",
              "2  soutientailara  ...  [human face, person, clothing, man, wall, smil...\n",
              "\n",
              "[1 rows x 7 columns]"
            ]
          },
          "metadata": {
            "tags": []
          },
          "execution_count": 53
        }
      ]
    }
  ]
}