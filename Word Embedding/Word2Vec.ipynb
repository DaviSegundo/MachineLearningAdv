{
  "nbformat": 4,
  "nbformat_minor": 0,
  "metadata": {
    "colab": {
      "name": "Word2Vec.ipynb",
      "provenance": []
    },
    "kernelspec": {
      "name": "python3",
      "display_name": "Python 3"
    },
    "language_info": {
      "name": "python"
    }
  },
  "cells": [
    {
      "cell_type": "code",
      "metadata": {
        "colab": {
          "base_uri": "https://localhost:8080/"
        },
        "id": "rIh7FpkJ63RE",
        "outputId": "1bef3ebf-749d-42da-8621-7e7a428c2258"
      },
      "source": [
        "!unzip \"/content/drive/MyDrive/Colab Notebooks/curso word2vec/cbow_s300.zip\"\n",
        "!unzip \"/content/drive/MyDrive/Colab Notebooks/curso word2vec/skip_s300.zip\""
      ],
      "execution_count": null,
      "outputs": [
        {
          "output_type": "stream",
          "text": [
            "Archive:  /content/drive/MyDrive/Colab Notebooks/curso word2vec/cbow_s300.zip\n",
            "  inflating: cbow_s300.txt           \n",
            "Archive:  /content/drive/MyDrive/Colab Notebooks/curso word2vec/skip_s300.zip\n",
            "  inflating: skip_s300.txt           \n"
          ],
          "name": "stdout"
        }
      ]
    },
    {
      "cell_type": "markdown",
      "metadata": {
        "id": "cHxCW4e7SXTP"
      },
      "source": [
        "## Libs Usadas"
      ]
    },
    {
      "cell_type": "code",
      "metadata": {
        "id": "tRCwLVlkDuaa",
        "colab": {
          "base_uri": "https://localhost:8080/"
        },
        "outputId": "deb66911-4064-4ae7-e93a-e991759f7ec8"
      },
      "source": [
        "import nltk\n",
        "import string\n",
        "import numpy as np\n",
        "import pandas as pd\n",
        "from gensim.models import KeyedVectors\n",
        "from sklearn.dummy import DummyClassifier\n",
        "from sklearn.metrics import classification_report\n",
        "from sklearn.linear_model import LogisticRegression\n",
        "from sklearn.feature_extraction.text import CountVectorizer\n",
        "\n",
        "nltk.download('punkt')"
      ],
      "execution_count": null,
      "outputs": [
        {
          "output_type": "stream",
          "text": [
            "[nltk_data] Downloading package punkt to /root/nltk_data...\n",
            "[nltk_data]   Unzipping tokenizers/punkt.zip.\n"
          ],
          "name": "stdout"
        },
        {
          "output_type": "execute_result",
          "data": {
            "text/plain": [
              "True"
            ]
          },
          "metadata": {
            "tags": []
          },
          "execution_count": 2
        }
      ]
    },
    {
      "cell_type": "markdown",
      "metadata": {
        "id": "Nj5UrukxSZ3o"
      },
      "source": [
        "## Leitura dos dados"
      ]
    },
    {
      "cell_type": "code",
      "metadata": {
        "id": "tyIX5pogHAAI"
      },
      "source": [
        "artigo_treino = pd.read_csv('/content/drive/MyDrive/Colab Notebooks/curso word2vec/treino.csv')\n",
        "artigo_teste = pd.read_csv('/content/drive/MyDrive/Colab Notebooks/curso word2vec/teste.csv')"
      ],
      "execution_count": null,
      "outputs": []
    },
    {
      "cell_type": "code",
      "metadata": {
        "colab": {
          "base_uri": "https://localhost:8080/",
          "height": 697
        },
        "id": "gZtIeGydHe8C",
        "outputId": "ee72ac8c-a678-477b-fd1f-9e740202752d"
      },
      "source": [
        "display(artigo_treino.head())\n",
        "display(artigo_treino.shape)\n",
        "display(artigo_teste.head())\n",
        "display(artigo_teste.shape)"
      ],
      "execution_count": null,
      "outputs": [
        {
          "output_type": "display_data",
          "data": {
            "text/html": [
              "<div>\n",
              "<style scoped>\n",
              "    .dataframe tbody tr th:only-of-type {\n",
              "        vertical-align: middle;\n",
              "    }\n",
              "\n",
              "    .dataframe tbody tr th {\n",
              "        vertical-align: top;\n",
              "    }\n",
              "\n",
              "    .dataframe thead th {\n",
              "        text-align: right;\n",
              "    }\n",
              "</style>\n",
              "<table border=\"1\" class=\"dataframe\">\n",
              "  <thead>\n",
              "    <tr style=\"text-align: right;\">\n",
              "      <th></th>\n",
              "      <th>title</th>\n",
              "      <th>text</th>\n",
              "      <th>date</th>\n",
              "      <th>category</th>\n",
              "      <th>subcategory</th>\n",
              "      <th>link</th>\n",
              "    </tr>\n",
              "  </thead>\n",
              "  <tbody>\n",
              "    <tr>\n",
              "      <th>0</th>\n",
              "      <td>Após polêmica, Marine Le Pen diz que abomina n...</td>\n",
              "      <td>A candidata da direita nacionalista à Presidên...</td>\n",
              "      <td>2017-04-28</td>\n",
              "      <td>mundo</td>\n",
              "      <td>NaN</td>\n",
              "      <td>http://www1.folha.uol.com.br/mundo/2017/04/187...</td>\n",
              "    </tr>\n",
              "    <tr>\n",
              "      <th>1</th>\n",
              "      <td>Macron e Le Pen vão ao 2º turno na França, em ...</td>\n",
              "      <td>O centrista independente Emmanuel Macron e a d...</td>\n",
              "      <td>2017-04-23</td>\n",
              "      <td>mundo</td>\n",
              "      <td>NaN</td>\n",
              "      <td>http://www1.folha.uol.com.br/mundo/2017/04/187...</td>\n",
              "    </tr>\n",
              "    <tr>\n",
              "      <th>2</th>\n",
              "      <td>Apesar de larga vitória nas legislativas, Macr...</td>\n",
              "      <td>As eleições legislativas deste domingo (19) na...</td>\n",
              "      <td>2017-06-19</td>\n",
              "      <td>mundo</td>\n",
              "      <td>NaN</td>\n",
              "      <td>http://www1.folha.uol.com.br/mundo/2017/06/189...</td>\n",
              "    </tr>\n",
              "    <tr>\n",
              "      <th>3</th>\n",
              "      <td>Governo antecipa balanço, e Alckmin anuncia qu...</td>\n",
              "      <td>O número de ocorrências de homicídios dolosos ...</td>\n",
              "      <td>2015-07-24</td>\n",
              "      <td>cotidiano</td>\n",
              "      <td>NaN</td>\n",
              "      <td>http://www1.folha.uol.com.br/cotidiano/2015/07...</td>\n",
              "    </tr>\n",
              "    <tr>\n",
              "      <th>4</th>\n",
              "      <td>Após queda em maio, a atividade econômica sobe...</td>\n",
              "      <td>A economia cresceu 0,25% no segundo trimestre,...</td>\n",
              "      <td>2017-08-17</td>\n",
              "      <td>mercado</td>\n",
              "      <td>NaN</td>\n",
              "      <td>http://www1.folha.uol.com.br/mercado/2017/08/1...</td>\n",
              "    </tr>\n",
              "  </tbody>\n",
              "</table>\n",
              "</div>"
            ],
            "text/plain": [
              "                                               title  ...                                               link\n",
              "0  Após polêmica, Marine Le Pen diz que abomina n...  ...  http://www1.folha.uol.com.br/mundo/2017/04/187...\n",
              "1  Macron e Le Pen vão ao 2º turno na França, em ...  ...  http://www1.folha.uol.com.br/mundo/2017/04/187...\n",
              "2  Apesar de larga vitória nas legislativas, Macr...  ...  http://www1.folha.uol.com.br/mundo/2017/06/189...\n",
              "3  Governo antecipa balanço, e Alckmin anuncia qu...  ...  http://www1.folha.uol.com.br/cotidiano/2015/07...\n",
              "4  Após queda em maio, a atividade econômica sobe...  ...  http://www1.folha.uol.com.br/mercado/2017/08/1...\n",
              "\n",
              "[5 rows x 6 columns]"
            ]
          },
          "metadata": {
            "tags": []
          }
        },
        {
          "output_type": "display_data",
          "data": {
            "text/plain": [
              "(90000, 6)"
            ]
          },
          "metadata": {
            "tags": []
          }
        },
        {
          "output_type": "display_data",
          "data": {
            "text/html": [
              "<div>\n",
              "<style scoped>\n",
              "    .dataframe tbody tr th:only-of-type {\n",
              "        vertical-align: middle;\n",
              "    }\n",
              "\n",
              "    .dataframe tbody tr th {\n",
              "        vertical-align: top;\n",
              "    }\n",
              "\n",
              "    .dataframe thead th {\n",
              "        text-align: right;\n",
              "    }\n",
              "</style>\n",
              "<table border=\"1\" class=\"dataframe\">\n",
              "  <thead>\n",
              "    <tr style=\"text-align: right;\">\n",
              "      <th></th>\n",
              "      <th>title</th>\n",
              "      <th>text</th>\n",
              "      <th>date</th>\n",
              "      <th>category</th>\n",
              "      <th>subcategory</th>\n",
              "      <th>link</th>\n",
              "    </tr>\n",
              "  </thead>\n",
              "  <tbody>\n",
              "    <tr>\n",
              "      <th>0</th>\n",
              "      <td>Grandes irmãos</td>\n",
              "      <td>RIO DE JANEIRO - O Brasil, cada vez menos famí...</td>\n",
              "      <td>2017-03-06</td>\n",
              "      <td>colunas</td>\n",
              "      <td>ruycastro</td>\n",
              "      <td>http://www1.folha.uol.com.br/colunas/ruycastro...</td>\n",
              "    </tr>\n",
              "    <tr>\n",
              "      <th>1</th>\n",
              "      <td>Haddad congela orçamento e suspende emendas de...</td>\n",
              "      <td>O prefeito de São Paulo, Fernando Haddad (PT),...</td>\n",
              "      <td>2016-08-10</td>\n",
              "      <td>colunas</td>\n",
              "      <td>monicabergamo</td>\n",
              "      <td>http://www1.folha.uol.com.br/colunas/monicaber...</td>\n",
              "    </tr>\n",
              "    <tr>\n",
              "      <th>2</th>\n",
              "      <td>Proposta de reforma da Fifa tem a divulgação d...</td>\n",
              "      <td>A Fifa divulgou, nesta quinta (10), um relatór...</td>\n",
              "      <td>2015-10-09</td>\n",
              "      <td>esporte</td>\n",
              "      <td>NaN</td>\n",
              "      <td>http://www1.folha.uol.com.br/esporte/2015/09/1...</td>\n",
              "    </tr>\n",
              "    <tr>\n",
              "      <th>3</th>\n",
              "      <td>Mercado incipiente, internet das coisas conect...</td>\n",
              "      <td>Bueiros, coleiras, aparelhos hospitalares, ele...</td>\n",
              "      <td>2016-11-09</td>\n",
              "      <td>mercado</td>\n",
              "      <td>NaN</td>\n",
              "      <td>http://www1.folha.uol.com.br/mercado/2016/09/1...</td>\n",
              "    </tr>\n",
              "    <tr>\n",
              "      <th>4</th>\n",
              "      <td>Mortes: Psicanalista, estudou o autismo em cri...</td>\n",
              "      <td>Toda vez que o grupo de amigos de Silvana Rabe...</td>\n",
              "      <td>2017-02-07</td>\n",
              "      <td>cotidiano</td>\n",
              "      <td>NaN</td>\n",
              "      <td>http://www1.folha.uol.com.br/cotidiano/2017/07...</td>\n",
              "    </tr>\n",
              "  </tbody>\n",
              "</table>\n",
              "</div>"
            ],
            "text/plain": [
              "                                               title  ...                                               link\n",
              "0                                     Grandes irmãos  ...  http://www1.folha.uol.com.br/colunas/ruycastro...\n",
              "1  Haddad congela orçamento e suspende emendas de...  ...  http://www1.folha.uol.com.br/colunas/monicaber...\n",
              "2  Proposta de reforma da Fifa tem a divulgação d...  ...  http://www1.folha.uol.com.br/esporte/2015/09/1...\n",
              "3  Mercado incipiente, internet das coisas conect...  ...  http://www1.folha.uol.com.br/mercado/2016/09/1...\n",
              "4  Mortes: Psicanalista, estudou o autismo em cri...  ...  http://www1.folha.uol.com.br/cotidiano/2017/07...\n",
              "\n",
              "[5 rows x 6 columns]"
            ]
          },
          "metadata": {
            "tags": []
          }
        },
        {
          "output_type": "display_data",
          "data": {
            "text/plain": [
              "(20513, 6)"
            ]
          },
          "metadata": {
            "tags": []
          }
        }
      ]
    },
    {
      "cell_type": "markdown",
      "metadata": {
        "id": "KfZZyN_ASJfi"
      },
      "source": [
        "## Estudo de como funciona o Word2Vec"
      ]
    },
    {
      "cell_type": "code",
      "metadata": {
        "id": "s2jIj4qULF3N"
      },
      "source": [
        "modelo = KeyedVectors.load_word2vec_format('/content/cbow_s300.txt')"
      ],
      "execution_count": null,
      "outputs": []
    },
    {
      "cell_type": "code",
      "metadata": {
        "colab": {
          "base_uri": "https://localhost:8080/"
        },
        "id": "za_Hxg36UTgH",
        "outputId": "3713a454-d986-40e5-cd8d-10c0a4d90f2b"
      },
      "source": [
        "modelo.most_similar('carro')"
      ],
      "execution_count": null,
      "outputs": [
        {
          "output_type": "execute_result",
          "data": {
            "text/plain": [
              "[('veículo', 0.8137416839599609),\n",
              " ('caminhão', 0.7600934505462646),\n",
              " ('jipe', 0.680985689163208),\n",
              " ('camião', 0.6723827719688416),\n",
              " ('furgão', 0.6717828512191772),\n",
              " ('veã\\xadculo', 0.6359531879425049),\n",
              " ('caminhã£o', 0.620665967464447),\n",
              " ('avião', 0.610375165939331),\n",
              " ('táxi', 0.60887610912323),\n",
              " ('automóvel', 0.6054151058197021)]"
            ]
          },
          "metadata": {
            "tags": []
          },
          "execution_count": 6
        }
      ]
    },
    {
      "cell_type": "code",
      "metadata": {
        "colab": {
          "base_uri": "https://localhost:8080/"
        },
        "id": "fsVBmk8NNM4N",
        "outputId": "f4fd26d2-3cd8-490c-d4df-bad315e3c3b6"
      },
      "source": [
        "modelo.most_similar(positive=[\"brasil\", \"argentina\", \"uruguai\"])"
      ],
      "execution_count": null,
      "outputs": [
        {
          "output_type": "execute_result",
          "data": {
            "text/plain": [
              "[('chile', 0.7778865098953247),\n",
              " ('peru', 0.7384953498840332),\n",
              " ('paraguai', 0.7282066345214844),\n",
              " ('equador', 0.6968042850494385),\n",
              " ('bolívia', 0.6627143621444702),\n",
              " ('méxico', 0.658368706703186),\n",
              " ('haiti', 0.6435114741325378),\n",
              " ('panamá', 0.6385565400123596),\n",
              " ('venezuela', 0.6315447688102722),\n",
              " ('colômbia', 0.6180727481842041)]"
            ]
          },
          "metadata": {
            "tags": []
          },
          "execution_count": 7
        }
      ]
    },
    {
      "cell_type": "code",
      "metadata": {
        "colab": {
          "base_uri": "https://localhost:8080/"
        },
        "id": "o1COBdLhOrmN",
        "outputId": "b3e5ac83-2904-4c2d-edd6-346ef0e5db84"
      },
      "source": [
        "'''\n",
        "Possível maneira de descobrir o plural de palavras.\n",
        "\n",
        "nuvens -> nuvem\n",
        "estrelas -> estrelas\n",
        "\n",
        "Como descobrir o plural da palavra \"estrelas\" com base nas outras informações?\n",
        "\n",
        "nuvens + estrela - nuvem = estrelas\n",
        "\n",
        "As operações vetoriais deveriam resultar assim.\n",
        "'''\n",
        "\n",
        "modelo.most_similar(positive=[\"nuvens\", \"estrela\"], negative=[\"nuvem\"])"
      ],
      "execution_count": null,
      "outputs": [
        {
          "output_type": "execute_result",
          "data": {
            "text/plain": [
              "[('estrelas', 0.5497429966926575),\n",
              " ('plêiades', 0.379197895526886),\n",
              " ('colinas', 0.3746805191040039),\n",
              " ('trovoadas', 0.373703271150589),\n",
              " ('sombras', 0.3734194040298462),\n",
              " ('pombas', 0.3726757764816284),\n",
              " ('corredoras', 0.3640727698802948),\n",
              " ('cigarras', 0.36065393686294556),\n",
              " ('galáxias', 0.35754913091659546),\n",
              " ('luas', 0.3575345277786255)]"
            ]
          },
          "metadata": {
            "tags": []
          },
          "execution_count": 8
        }
      ]
    },
    {
      "cell_type": "code",
      "metadata": {
        "colab": {
          "base_uri": "https://localhost:8080/"
        },
        "id": "PnHEhb4oQCxI",
        "outputId": "14f5a3da-edee-4338-acd9-26f776c107dd"
      },
      "source": [
        "'''\n",
        "Nem tudo funciona perfeitamente.\n",
        "\n",
        "Nesse caso abaixo podemos ver o claro vies humano.\n",
        "Onde é associado a figura da mulher a enfermeira em vez de médica.\n",
        "'''\n",
        "\n",
        "modelo.most_similar(positive=[\"médico\", \"mulher\"], negative=[\"homem\"])"
      ],
      "execution_count": null,
      "outputs": [
        {
          "output_type": "execute_result",
          "data": {
            "text/plain": [
              "[('enfermeira', 0.6180862188339233),\n",
              " ('psicóloga', 0.47447532415390015),\n",
              " ('dama-de-companhia', 0.4738234877586365),\n",
              " ('esposa', 0.46559134125709534),\n",
              " ('parteira', 0.46362876892089844),\n",
              " ('mãe', 0.4581768214702606),\n",
              " ('governanta', 0.45722925662994385),\n",
              " ('madrasta', 0.4569782614707947),\n",
              " ('menina', 0.44435906410217285),\n",
              " ('filha', 0.44341108202934265)]"
            ]
          },
          "metadata": {
            "tags": []
          },
          "execution_count": 9
        }
      ]
    },
    {
      "cell_type": "code",
      "metadata": {
        "colab": {
          "base_uri": "https://localhost:8080/"
        },
        "id": "blyTpZPIQoNC",
        "outputId": "dbadac02-d3e4-44fd-a7ba-6ac46da4a8dd"
      },
      "source": [
        "'''\n",
        "Para um caso em que não temos tanto um vies humano, a relação funciona\n",
        "corretamente, pois nesse caso é mais comum associar a mulher o cargo\n",
        "de professora.\n",
        "\n",
        "Assim, é muito importante fazer um estudo dos dados que foram analisados.\n",
        "'''\n",
        "\n",
        "modelo.most_similar(positive=[\"professor\", \"mulher\"], negative=[\"homem\"])"
      ],
      "execution_count": null,
      "outputs": [
        {
          "output_type": "execute_result",
          "data": {
            "text/plain": [
              "[('professora', 0.6192208528518677),\n",
              " ('aluna', 0.5449554324150085),\n",
              " ('esposa', 0.4978231191635132),\n",
              " ('ex-aluna', 0.4884248375892639),\n",
              " ('namorada', 0.4737858772277832),\n",
              " ('enfermeira', 0.4728144109249115),\n",
              " ('filha', 0.467373788356781),\n",
              " ('irmã', 0.45845913887023926),\n",
              " ('ex-namorada', 0.45824766159057617),\n",
              " ('ex-professora', 0.4510470926761627)]"
            ]
          },
          "metadata": {
            "tags": []
          },
          "execution_count": 10
        }
      ]
    },
    {
      "cell_type": "markdown",
      "metadata": {
        "id": "tP72VOu1SQ4a"
      },
      "source": [
        "## Tokenização\n",
        "#### Vetorização de textos"
      ]
    },
    {
      "cell_type": "code",
      "metadata": {
        "colab": {
          "base_uri": "https://localhost:8080/",
          "height": 35
        },
        "id": "csembmydRxKU",
        "outputId": "f00fb56a-72a4-4100-861b-7a8ae29dd9aa"
      },
      "source": [
        "artigo_treino.title.loc[8]"
      ],
      "execution_count": null,
      "outputs": [
        {
          "output_type": "execute_result",
          "data": {
            "application/vnd.google.colaboratory.intrinsic+json": {
              "type": "string"
            },
            "text/plain": [
              "'Premiada em Sundance, Crystal Moselle retrata sexismo no mundo do skate'"
            ]
          },
          "metadata": {
            "tags": []
          },
          "execution_count": 11
        }
      ]
    },
    {
      "cell_type": "code",
      "metadata": {
        "id": "lCIWCg1gmCjE"
      },
      "source": [
        "'''\n",
        "Função que tokeniza um texto separando pela pontuação.\n",
        "\n",
        "Recebe uma frase como entrada.\n",
        "'''\n",
        "\n",
        "def tokenizador(texto):\n",
        "  lista_alfanumerica = list()\n",
        "\n",
        "  texto_min = texto.lower()\n",
        "  \n",
        "  for token_valido in nltk.word_tokenize(texto_min):\n",
        "    if token_valido in string.punctuation: continue\n",
        "    lista_alfanumerica.append(token_valido)\n",
        "\n",
        "  return lista_alfanumerica"
      ],
      "execution_count": null,
      "outputs": []
    },
    {
      "cell_type": "code",
      "metadata": {
        "id": "KzfxjOm3rajS"
      },
      "source": [
        "'''\n",
        "Função que cria e ajusta a frase de entrada para um vetor.\n",
        "\n",
        "Recebe uma frase que já foi tokenizada como entrada.\n",
        "'''\n",
        "\n",
        "def combinacao_vetores_soma(palavras_numeros):\n",
        "  vetor_resultante = np.zeros(300)\n",
        "\n",
        "  for pn in palavras_numeros:\n",
        "    try:\n",
        "      vetor_resultante += modelo.get_vector(pn)\n",
        "    except KeyError:\n",
        "      if pn.isnumeric():\n",
        "        pn = '0'*len(pn)\n",
        "        vetor_resultante += modelo.get_vector(pn)\n",
        "      else:\n",
        "        vetor_resultante += modelo.get_vector('unknown')\n",
        "\n",
        "  return vetor_resultante"
      ],
      "execution_count": null,
      "outputs": []
    },
    {
      "cell_type": "code",
      "metadata": {
        "colab": {
          "base_uri": "https://localhost:8080/"
        },
        "id": "bS_U_YiWsKoN",
        "outputId": "67a13f48-d62c-43bd-d64c-313f6f4e6cd5"
      },
      "source": [
        "'''\n",
        "Ainda existem erros nesse algoritmo.\n",
        "\n",
        "Como o fato de palavras escritas erradas gerarem erro no Word2Vec.\n",
        "\n",
        "Também temos o problema dos números, onde é preciso transformar\n",
        "todos para zero.\n",
        "\n",
        "Isso foi descrito no artigo científico do projeto do Word2Vec que\n",
        "estamos usando.\n",
        "\n",
        "As correções foram feitas na função acima com o try : except.\n",
        "'''\n",
        "\n",
        "palavras_numeros = tokenizador(\"texto alura\")\n",
        "vetor_texto = combinacao_vetores_soma(palavras_numeros)\n",
        "print(len(vetor_texto))\n",
        "print(vetor_texto)"
      ],
      "execution_count": null,
      "outputs": [
        {
          "output_type": "stream",
          "text": [
            "300\n",
            "[ 0.125897    0.194438   -0.142889    0.34635099  0.035276   -0.017386\n",
            "  0.030712    0.166557    0.045682   -0.062929    0.06109     0.028584\n",
            " -0.138883   -0.060791    0.02032     0.00423    -0.279804    0.02043\n",
            "  0.096948    0.121195   -0.19849801 -0.114145   -0.11284101  0.002815\n",
            "  0.23597    -0.090686   -0.088413    0.078109   -0.013849    0.102817\n",
            "  0.148391   -0.285559   -0.011405   -0.066368    0.100877    0.116555\n",
            "  0.11000501  0.30112999  0.084156    0.33384     0.015387   -0.066228\n",
            "  0.22636401  0.014496   -0.015116    0.101645    0.154648    0.10974901\n",
            "  0.042056    0.027007    0.171579    0.062411   -0.25566     0.026175\n",
            " -0.147822   -0.106932    0.053303    0.31571199 -0.005591   -0.314451\n",
            " -0.25245201 -0.06189    -0.131413   -0.195418    0.12041599 -0.110805\n",
            "  0.147487   -0.06038    -0.15548899 -0.072362    0.061702   -0.27237701\n",
            "  0.036561    0.059108   -0.038358    0.154295   -0.130129   -0.220903\n",
            "  0.113842   -0.032527    0.03557    -0.143014    0.252334    0.098097\n",
            "  0.00969601 -0.25303999 -0.098443    0.015188   -0.101872   -0.26951299\n",
            " -0.31432199  0.177959    0.073411    0.16424601 -0.19016201 -0.201045\n",
            "  0.069846    0.27552101  0.12525    -0.28814799  0.053773   -0.130057\n",
            " -0.038667   -0.116774    0.013191    0.055776   -0.137609    0.135297\n",
            "  0.086977    0.045668    0.15821     0.227858    0.090509   -0.029885\n",
            "  0.020086   -0.05153501 -0.34099299 -0.087897   -0.033673    0.154471\n",
            "  0.262575   -0.12166     0.044452   -0.014565   -0.009215   -0.344515\n",
            " -0.090961    0.00614    -0.046272    0.29471899 -0.043669   -0.28620601\n",
            " -0.14473     0.078303    0.035721   -0.30910301  0.325557   -0.135211\n",
            "  0.075121    0.103557   -0.079537    0.141174    0.008038    0.33276701\n",
            " -0.010061   -0.31278301  0.13783     0.04853    -0.02388    -0.029524\n",
            " -0.07232     0.336279    0.263964   -0.181501   -0.079334   -0.20284\n",
            " -0.016456    0.023813   -0.108104   -0.122218    0.027858    0.054158\n",
            " -0.051299   -0.143938   -0.07328     0.005708    0.219879    0.042976\n",
            " -0.143881   -0.030435   -0.181938   -0.022308   -0.030696   -0.239341\n",
            " -0.27679801 -0.012414    0.08364    -0.094618    0.104399   -0.077551\n",
            " -0.003807   -0.35190399  0.158448   -0.02484     0.003222   -0.17095999\n",
            " -0.042937   -0.241136   -0.294793    0.164295    0.099615    0.00889999\n",
            " -0.098714   -0.055828    0.020742    0.161524   -0.33657899 -0.40027799\n",
            "  0.097628    0.131825    0.273653   -0.15786801 -0.091553    0.049841\n",
            " -0.091367    0.055732   -0.129752    0.021424   -0.13563401  0.105258\n",
            "  0.019719    0.056087    0.121431    0.037434    0.042861    0.05529\n",
            "  0.116365   -0.226243   -0.27773601  0.009305   -0.079264    0.043646\n",
            "  0.02787    -0.035611    0.138397   -0.290865    0.100159   -0.001532\n",
            " -0.141838   -0.02302    -0.14543    -0.052737    0.017534   -0.043426\n",
            " -0.118248   -0.41285099 -0.199847    0.041909    0.098401   -0.233726\n",
            "  0.125639    0.19625399 -0.051396   -0.056887    0.11387    -0.215963\n",
            "  0.002693   -0.146478    0.007358    0.215033   -0.197689    0.155712\n",
            " -0.065402   -0.094083    0.187473    0.121288    0.34325101 -0.130467\n",
            "  0.166968   -0.24970699 -0.038825    0.049217    0.04054    -0.15179901\n",
            " -0.136404   -0.095331    0.22820699 -0.012314    0.109577   -0.23995799\n",
            " -0.007846    0.071027   -0.025241    0.108025    0.061132   -0.233888\n",
            " -0.045378    0.140412   -0.008865    0.085571    0.37322099  0.028896\n",
            " -0.20325599  0.20248799  0.278534   -0.09275     0.214865   -0.44224901\n",
            " -0.32714801 -0.15531299  0.38138399  0.024698   -0.097863    0.01791\n",
            " -0.105533    0.32727899  0.26658001 -0.230402   -0.187935    0.20243   ]\n"
          ],
          "name": "stdout"
        }
      ]
    },
    {
      "cell_type": "code",
      "metadata": {
        "id": "_WTJdHVG0tyX"
      },
      "source": [
        "'''\n",
        "Função para transformar o conjunto de treino e teste em uma\n",
        "matriz de vetores.\n",
        "\n",
        "Recebe o conjunto de textos do DataFrame como entrada.\n",
        "'''\n",
        "\n",
        "def matriz_vetores(textos):\n",
        "  x = len(textos)\n",
        "  y = 300\n",
        "  matriz = np.zeros((x, y))\n",
        "\n",
        "  for i in range(x):\n",
        "    palavras_numeros = tokenizador(textos.iloc[i])\n",
        "    matriz[i] = combinacao_vetores_soma(palavras_numeros)\n",
        "  \n",
        "  return matriz"
      ],
      "execution_count": null,
      "outputs": []
    },
    {
      "cell_type": "code",
      "metadata": {
        "id": "fofmHobH20la"
      },
      "source": [
        "matriz_vetores_treino = matriz_vetores(artigo_treino.title)\n",
        "matriz_vetores_teste = matriz_vetores(artigo_teste.title)"
      ],
      "execution_count": null,
      "outputs": []
    },
    {
      "cell_type": "markdown",
      "metadata": {
        "id": "Kk-ra_5FW3oH"
      },
      "source": [
        "# Treinamento e Comparações"
      ]
    },
    {
      "cell_type": "markdown",
      "metadata": {
        "id": "R6WunipxXe7i"
      },
      "source": [
        "## Treinamento com CBOW"
      ]
    },
    {
      "cell_type": "code",
      "metadata": {
        "colab": {
          "base_uri": "https://localhost:8080/"
        },
        "id": "G-00ERmd3MRG",
        "outputId": "3feba821-e06e-4ca7-a29b-0b623e822157"
      },
      "source": [
        "print(matriz_vetores_treino.shape)\n",
        "print(matriz_vetores_teste.shape)"
      ],
      "execution_count": null,
      "outputs": [
        {
          "output_type": "stream",
          "text": [
            "(90000, 300)\n",
            "(20513, 300)\n"
          ],
          "name": "stdout"
        }
      ]
    },
    {
      "cell_type": "markdown",
      "metadata": {
        "id": "CWmv5ZxeW8H-"
      },
      "source": [
        "### Regressão Logística"
      ]
    },
    {
      "cell_type": "code",
      "metadata": {
        "id": "TJA2mpzZD3YE",
        "colab": {
          "base_uri": "https://localhost:8080/"
        },
        "outputId": "b574f5ce-bf6a-4bb0-87ab-9800aa9cb008"
      },
      "source": [
        "lr = LogisticRegression(max_iter=200)\n",
        "lr.fit(matriz_vetores_treino, artigo_treino.category)"
      ],
      "execution_count": null,
      "outputs": [
        {
          "output_type": "execute_result",
          "data": {
            "text/plain": [
              "LogisticRegression(C=1.0, class_weight=None, dual=False, fit_intercept=True,\n",
              "                   intercept_scaling=1, l1_ratio=None, max_iter=200,\n",
              "                   multi_class='auto', n_jobs=None, penalty='l2',\n",
              "                   random_state=None, solver='lbfgs', tol=0.0001, verbose=0,\n",
              "                   warm_start=False)"
            ]
          },
          "metadata": {
            "tags": []
          },
          "execution_count": 18
        }
      ]
    },
    {
      "cell_type": "code",
      "metadata": {
        "colab": {
          "base_uri": "https://localhost:8080/"
        },
        "id": "uQ8ziEklSyId",
        "outputId": "033c507c-1306-451a-930f-3f74cdf1c4e2"
      },
      "source": [
        "label_prevista = lr.predict(matriz_vetores_teste)\n",
        "lr.score(matriz_vetores_teste, artigo_teste.category)"
      ],
      "execution_count": null,
      "outputs": [
        {
          "output_type": "execute_result",
          "data": {
            "text/plain": [
              "0.7964705308828548"
            ]
          },
          "metadata": {
            "tags": []
          },
          "execution_count": 19
        }
      ]
    },
    {
      "cell_type": "code",
      "metadata": {
        "colab": {
          "base_uri": "https://localhost:8080/"
        },
        "id": "H0ccNsPoUdlN",
        "outputId": "19750b6d-c2a6-4459-935d-1748fc099d47"
      },
      "source": [
        "cr = classification_report(artigo_teste.category, label_prevista)\n",
        "print(cr)"
      ],
      "execution_count": null,
      "outputs": [
        {
          "output_type": "stream",
          "text": [
            "              precision    recall  f1-score   support\n",
            "\n",
            "     colunas       0.86      0.72      0.78      6103\n",
            "   cotidiano       0.61      0.79      0.69      1698\n",
            "     esporte       0.93      0.88      0.90      4663\n",
            "   ilustrada       0.13      0.88      0.23       131\n",
            "     mercado       0.84      0.79      0.81      5867\n",
            "       mundo       0.74      0.86      0.79      2051\n",
            "\n",
            "    accuracy                           0.80     20513\n",
            "   macro avg       0.68      0.82      0.70     20513\n",
            "weighted avg       0.83      0.80      0.81     20513\n",
            "\n"
          ],
          "name": "stdout"
        }
      ]
    },
    {
      "cell_type": "markdown",
      "metadata": {
        "id": "F8sEnZHNW__c"
      },
      "source": [
        "### Dummy Classifier"
      ]
    },
    {
      "cell_type": "code",
      "metadata": {
        "colab": {
          "base_uri": "https://localhost:8080/"
        },
        "id": "vHWC0WTQWZTL",
        "outputId": "d0e01e58-997f-4110-cf9e-e1f3b4455aef"
      },
      "source": [
        "dc = DummyClassifier()\n",
        "dc.fit(matriz_vetores_treino, artigo_treino.category)"
      ],
      "execution_count": null,
      "outputs": [
        {
          "output_type": "stream",
          "text": [
            "/usr/local/lib/python3.7/dist-packages/sklearn/dummy.py:132: FutureWarning: The default value of strategy will change from stratified to prior in 0.24.\n",
            "  \"stratified to prior in 0.24.\", FutureWarning)\n"
          ],
          "name": "stderr"
        },
        {
          "output_type": "execute_result",
          "data": {
            "text/plain": [
              "DummyClassifier(constant=None, random_state=None, strategy='warn')"
            ]
          },
          "metadata": {
            "tags": []
          },
          "execution_count": 21
        }
      ]
    },
    {
      "cell_type": "code",
      "metadata": {
        "colab": {
          "base_uri": "https://localhost:8080/"
        },
        "id": "P22gWmDaWg6s",
        "outputId": "9b8c1ed8-de53-441d-95bd-860ee1919bbe"
      },
      "source": [
        "label_prevista_dc = dc.predict(matriz_vetores_teste)\n",
        "dc.score(matriz_vetores_teste, artigo_teste.category)"
      ],
      "execution_count": null,
      "outputs": [
        {
          "output_type": "execute_result",
          "data": {
            "text/plain": [
              "0.1672110369034271"
            ]
          },
          "metadata": {
            "tags": []
          },
          "execution_count": 22
        }
      ]
    },
    {
      "cell_type": "code",
      "metadata": {
        "colab": {
          "base_uri": "https://localhost:8080/"
        },
        "id": "3mhDaDNbWrEV",
        "outputId": "0698d48a-f81a-4a7b-ceed-3e3061d40d8e"
      },
      "source": [
        "cr_dc = classification_report(artigo_teste.category, label_prevista_dc)\n",
        "print(cr_dc)"
      ],
      "execution_count": null,
      "outputs": [
        {
          "output_type": "stream",
          "text": [
            "              precision    recall  f1-score   support\n",
            "\n",
            "     colunas       0.29      0.16      0.21      6103\n",
            "   cotidiano       0.09      0.17      0.11      1698\n",
            "     esporte       0.23      0.16      0.19      4663\n",
            "   ilustrada       0.01      0.24      0.02       131\n",
            "     mercado       0.29      0.17      0.21      5867\n",
            "       mundo       0.11      0.19      0.14      2051\n",
            "\n",
            "    accuracy                           0.17     20513\n",
            "   macro avg       0.17      0.18      0.15     20513\n",
            "weighted avg       0.24      0.17      0.19     20513\n",
            "\n"
          ],
          "name": "stdout"
        }
      ]
    },
    {
      "cell_type": "markdown",
      "metadata": {
        "id": "0yMKoC3zXkqp"
      },
      "source": [
        "## Treinamento com Skip-gram"
      ]
    },
    {
      "cell_type": "code",
      "metadata": {
        "id": "K1qfzk2jXn3m"
      },
      "source": [
        "modelo_skipgram = KeyedVectors.load_word2vec_format(\"skip_s300.txt\")"
      ],
      "execution_count": null,
      "outputs": []
    },
    {
      "cell_type": "code",
      "metadata": {
        "id": "yCuAojo94RIw"
      },
      "source": [
        "def combinacao_vetores_soma_skipgram(palavras_numeros):\n",
        "  vetor_resultante = np.zeros(300)\n",
        "\n",
        "  for pn in palavras_numeros:\n",
        "    try:\n",
        "      vetor_resultante += modelo_skipgram.get_vector(pn)\n",
        "    except KeyError:\n",
        "      if pn.isnumeric():\n",
        "        pn = '0'*len(pn)\n",
        "        vetor_resultante += modelo_skipgram.get_vector(pn)\n",
        "      else:\n",
        "        vetor_resultante += modelo_skipgram.get_vector('unknown')\n",
        "\n",
        "  return vetor_resultante\n",
        "\n",
        "def matriz_vetores_skipgram(textos):\n",
        "  x = len(textos)\n",
        "  y = 300\n",
        "  matriz = np.zeros((x, y))\n",
        "\n",
        "  for i in range(x):\n",
        "    palavras_numeros = tokenizador(textos.iloc[i])\n",
        "    matriz[i] = combinacao_vetores_soma_skipgram(palavras_numeros)\n",
        "  \n",
        "  return matriz"
      ],
      "execution_count": null,
      "outputs": []
    },
    {
      "cell_type": "code",
      "metadata": {
        "id": "ZMQpdhZC40ZC"
      },
      "source": [
        "matriz_vetores_treino_skipgram = matriz_vetores_skipgram(artigo_treino.title)\n",
        "matriz_vetores_teste_skipgram = matriz_vetores_skipgram(artigo_teste.title)"
      ],
      "execution_count": null,
      "outputs": []
    },
    {
      "cell_type": "code",
      "metadata": {
        "colab": {
          "base_uri": "https://localhost:8080/"
        },
        "id": "0E4yVn7j49Vp",
        "outputId": "06c1b3ae-119a-4bcb-85c1-62d55e73c3bf"
      },
      "source": [
        "lr_skipgram = LogisticRegression(max_iter=300)\n",
        "lr_skipgram.fit(matriz_vetores_treino_skipgram, artigo_treino.category)"
      ],
      "execution_count": null,
      "outputs": [
        {
          "output_type": "execute_result",
          "data": {
            "text/plain": [
              "LogisticRegression(C=1.0, class_weight=None, dual=False, fit_intercept=True,\n",
              "                   intercept_scaling=1, l1_ratio=None, max_iter=300,\n",
              "                   multi_class='auto', n_jobs=None, penalty='l2',\n",
              "                   random_state=None, solver='lbfgs', tol=0.0001, verbose=0,\n",
              "                   warm_start=False)"
            ]
          },
          "metadata": {
            "tags": []
          },
          "execution_count": 32
        }
      ]
    },
    {
      "cell_type": "code",
      "metadata": {
        "colab": {
          "base_uri": "https://localhost:8080/"
        },
        "id": "KBhdYbX65Nag",
        "outputId": "e783c951-cc2e-4f98-f3a2-a16ad6550121"
      },
      "source": [
        "label_prevista_skipgram = lr.predict(matriz_vetores_teste_skipgram)\n",
        "lr_skipgram.score(matriz_vetores_teste_skipgram, artigo_teste.category)"
      ],
      "execution_count": null,
      "outputs": [
        {
          "output_type": "execute_result",
          "data": {
            "text/plain": [
              "0.807000438746161"
            ]
          },
          "metadata": {
            "tags": []
          },
          "execution_count": 33
        }
      ]
    },
    {
      "cell_type": "code",
      "metadata": {
        "colab": {
          "base_uri": "https://localhost:8080/"
        },
        "id": "CfZKExKr52sB",
        "outputId": "e7d8797f-1962-4f33-8eee-4d67aecc8358"
      },
      "source": [
        "cr_skipgram = classification_report(artigo_teste.category, label_prevista_skipgram)\n",
        "print(cr_skipgram)"
      ],
      "execution_count": null,
      "outputs": [
        {
          "output_type": "stream",
          "text": [
            "              precision    recall  f1-score   support\n",
            "\n",
            "     colunas       0.86      0.72      0.78      6103\n",
            "   cotidiano       0.63      0.81      0.70      1698\n",
            "     esporte       0.93      0.89      0.91      4663\n",
            "   ilustrada       0.15      0.92      0.26       131\n",
            "     mercado       0.84      0.82      0.83      5867\n",
            "       mundo       0.76      0.86      0.81      2051\n",
            "\n",
            "    accuracy                           0.81     20513\n",
            "   macro avg       0.69      0.83      0.71     20513\n",
            "weighted avg       0.84      0.81      0.82     20513\n",
            "\n"
          ],
          "name": "stdout"
        }
      ]
    }
  ]
}