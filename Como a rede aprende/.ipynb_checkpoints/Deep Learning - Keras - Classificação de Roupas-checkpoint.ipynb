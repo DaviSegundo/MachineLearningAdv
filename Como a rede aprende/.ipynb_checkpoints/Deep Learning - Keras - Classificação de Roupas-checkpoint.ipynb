{
 "cells": [
  {
   "cell_type": "markdown",
   "metadata": {},
   "source": [
    "## Carregamento e análise dos dados"
   ]
  },
  {
   "cell_type": "markdown",
   "metadata": {},
   "source": [
    "### Load do Dataset que vai servir de base para nosso treinamento"
   ]
  },
  {
   "cell_type": "code",
   "execution_count": null,
   "metadata": {},
   "outputs": [],
   "source": [
    "from tensorflow import keras\n",
    "\n",
    "# Definição do nosso Dataset com as informações da base de dados do keras\n",
    "dataset = keras.datasets.fashion_mnist\n",
    "\n",
    "# dataset.load_data() => retorna um conjunto de duas tuplas com as informações de treino e teste\n",
    "((imagens_treino, identificacoes_treino),(imagens_teste, identificacoes_teste)) = dataset.load_data()"
   ]
  },
  {
   "cell_type": "markdown",
   "metadata": {},
   "source": [
    "### Formato dos nossos dados"
   ]
  },
  {
   "cell_type": "code",
   "execution_count": null,
   "metadata": {},
   "outputs": [],
   "source": [
    "display(imagens_treino.shape)\n",
    "display(imagens_teste.shape)"
   ]
  },
  {
   "cell_type": "code",
   "execution_count": null,
   "metadata": {},
   "outputs": [],
   "source": [
    "display(identificacoes_treino.shape)\n",
    "display(identificacoes_teste.shape)"
   ]
  },
  {
   "cell_type": "markdown",
   "metadata": {},
   "source": [
    "### Exibição de exemplos do nosso Dataset"
   ]
  },
  {
   "cell_type": "code",
   "execution_count": null,
   "metadata": {},
   "outputs": [],
   "source": [
    "import matplotlib.pyplot as plt\n",
    "\n",
    "plt.figure(figsize=(10,8))\n",
    "\n",
    "# Função da Lib para exibir imagens => passando o index de onde a imagem está\n",
    "plt.imshow(imagens_treino[0])\n",
    "\n",
    "# Função para colocar titulo no gráfico => passando o index da identificação do nosso treino\n",
    "plt.title(identificacoes_treino[0])"
   ]
  },
  {
   "cell_type": "code",
   "execution_count": null,
   "metadata": {},
   "outputs": [],
   "source": [
    "display(identificacoes_treino.min())\n",
    "display(identificacoes_treino.max())\n",
    "total_classificacoes = 10\n",
    "print(f\"Total de classificações: {total_classificacoes}\")"
   ]
  },
  {
   "cell_type": "markdown",
   "metadata": {},
   "source": [
    "### Escala de cor na imagem\n",
    " - Futuramente será feita uma redução para evitar \"loss\""
   ]
  },
  {
   "cell_type": "code",
   "execution_count": null,
   "metadata": {},
   "outputs": [],
   "source": [
    "plt.figure(figsize=(10,8))\n",
    "plt.imshow(imagens_treino[0])\n",
    "plt.title(identificacoes_treino[0])\n",
    "plt.colorbar()"
   ]
  },
  {
   "cell_type": "markdown",
   "metadata": {},
   "source": [
    "### Exemplos de classificações dentro do Dataset"
   ]
  },
  {
   "cell_type": "code",
   "execution_count": null,
   "metadata": {},
   "outputs": [],
   "source": [
    "# Mapeamento dos nomes de cada classificação com base no Github oficial\n",
    "nomes_classificacoes = [\"Camiseta\", \"Calça\", \" Pullover\", \n",
    "                        \"Vestido\", \"Casaco\", \"Sandalha\", \n",
    "                        \"Camisa\", \"Tenis\", \"Bolsa\", \"Bota\"]"
   ]
  },
  {
   "cell_type": "code",
   "execution_count": null,
   "metadata": {},
   "outputs": [],
   "source": [
    "for imagem in range(10):\n",
    "    # Função do subplot serve para mostrar diversas imagens dentro de um \"for\"\n",
    "    # Passando o número de linhas, o número de colunas e a quantidade de repetição\n",
    "    plt.subplot(2, 5, imagem+1)\n",
    "    plt.imshow(imagens_treino[imagem])\n",
    "    # nomes_classificacoes[identificacoes_treino[imagem]] => identificacoes_treino[imagem] retorna um número com a posição no\n",
    "    # vetor de mapeamento para mostrar bonitinho nos gráficos\n",
    "    plt.title(nomes_classificacoes[identificacoes_treino[imagem]])"
   ]
  },
  {
   "cell_type": "markdown",
   "metadata": {},
   "source": [
    "## Construção do modelo\n",
    "   - Modelo:\n",
    "    - Entrada\n",
    "    - Processamento\n",
    "    - Saída"
   ]
  },
  {
   "cell_type": "code",
   "execution_count": null,
   "metadata": {},
   "outputs": [],
   "source": [
    "import tensorflow\n",
    "\n",
    "# Normalização\n",
    "# Escalonamento para reduzir o \"loss\"\n",
    "# Divisão da escala de cor da imagem para ficar entre 0 e 1\n",
    "imagens_treino = imagens_treino/255.0\n",
    "\n",
    "# Sequencia de passos do modelo\n",
    "model = keras.Sequential([\n",
    "    # Entrada\n",
    "    # Definição dos layers com o achatamento das nossas duas dimensões de para uma dimensão só\n",
    "    keras.layers.Flatten(input_shape=(28, 28)), # Camada 0\n",
    "    \n",
    "    # Processamento\n",
    "    # Número de \"bolinhas\" da camada e metodologia de ativação\n",
    "    keras.layers.Dense(256, activation=tensorflow.nn.relu), # Camada Densa, conectividade com todas as outras \"bolinhas\"\n",
    "    \n",
    "    # Adormecer camadas para evitar o vício\n",
    "    keras.layers.Dropout(0.2), # Convenção de 20% dos neuronios dormindo\n",
    "    \n",
    "    # Camadas Ocultas\n",
    "    # Teste de possíveis camadas intermediárias para verificar resultados diferentes\n",
    "#     keras.layers.Dense(128, activation=tensorflow.nn.relu),\n",
    "     keras.layers.Dense(64, activation=tensorflow.nn.relu),\n",
    "     keras.layers.Dropout(0.2),\n",
    "#     keras.layers.Dense(32, activation=tensorflow.nn.relu),\n",
    "    \n",
    "    # Saída\n",
    "    # Número de \"bolinhas\" é igual ao número de classificações que nós temos e a ativação\n",
    "    keras.layers.Dense(10, activation=tensorflow.nn.softmax)\n",
    "])\n",
    "\n",
    "# É preciso compilar o modelo antes de treinar/testar\n",
    "model.compile(optimizer='adam', loss='sparse_categorical_crossentropy', metrics=['accuracy'])\n",
    "\n",
    "# Treinamento do modelo => passando o x, y e número de ciclos de treino que devem ser realizados\n",
    "# Argumento para fazer validação no fit\n",
    "historico = model.fit(imagens_treino, identificacoes_treino, epochs=5, validation_split=0.2)"
   ]
  },
  {
   "cell_type": "code",
   "execution_count": null,
   "metadata": {},
   "outputs": [],
   "source": [
    "#model."
   ]
  },
  {
   "cell_type": "markdown",
   "metadata": {},
   "source": [
    "### Salvando e carregando o modelo"
   ]
  },
  {
   "cell_type": "code",
   "execution_count": null,
   "metadata": {},
   "outputs": [],
   "source": [
    "from tensorflow.keras.models import load_model\n",
    "\n",
    "# Método para salvar o modelo\n",
    "model.save(\"modelo2.h5\")\n",
    "\n",
    "# Método para carregar o modelo\n",
    "modelo_salvo = load_model(\"modelo2.h5\")"
   ]
  },
  {
   "cell_type": "markdown",
   "metadata": {},
   "source": [
    "## Analisando o resultado do treinamento e validação"
   ]
  },
  {
   "cell_type": "code",
   "execution_count": null,
   "metadata": {},
   "outputs": [],
   "source": [
    "# Retorna um dicionário com todas as métricas do fit\n",
    "display(historico.history)\n",
    "\n",
    "# Maneira de acessar as informações dentro do dicionário\n",
    "val_acc = historico.history['val_accuracy']\n",
    "acc = historico.history['accuracy']\n",
    "val_loss = historico.history['val_loss']\n",
    "loss = historico.history['loss']\n",
    "\n",
    "plt.plot(acc)\n",
    "plt.plot(val_acc)\n",
    "plt.title(\"Accuracy per epoches\")\n",
    "plt.xlabel(\"Epochs\")\n",
    "plt.ylabel(\"Accuracy\")\n",
    "plt.legend([\"Treino\", \"Validação\"])"
   ]
  },
  {
   "cell_type": "code",
   "execution_count": null,
   "metadata": {},
   "outputs": [],
   "source": [
    "plt.plot(loss)\n",
    "plt.plot(val_loss)\n",
    "plt.title(\"Loss per epoches\")\n",
    "plt.xlabel(\"Epochs\")\n",
    "plt.ylabel(\"Loss\")\n",
    "plt.legend([\"Treino\", \"Validação\"])"
   ]
  },
  {
   "cell_type": "markdown",
   "metadata": {},
   "source": [
    "## Validação dos dados"
   ]
  },
  {
   "cell_type": "code",
   "execution_count": null,
   "metadata": {},
   "outputs": [],
   "source": [
    "import numpy as np\n",
    "\n",
    "imagens_teste = imagens_teste/255.0\n",
    "\n",
    "# Avaliação do modelo\n",
    "# Retorna o \"loss\" e a accuracy do modelo\n",
    "display(model.evaluate(imagens_teste, identificacoes_teste))\n",
    "\n",
    "# Avaliação modelo salvo\n",
    "display(modelo_salvo.evaluate(imagens_teste, identificacoes_teste))"
   ]
  }
 ],
 "metadata": {
  "kernelspec": {
   "display_name": "Python 3",
   "language": "python",
   "name": "python3"
  },
  "language_info": {
   "codemirror_mode": {
    "name": "ipython",
    "version": 3
   },
   "file_extension": ".py",
   "mimetype": "text/x-python",
   "name": "python",
   "nbconvert_exporter": "python",
   "pygments_lexer": "ipython3",
   "version": "3.8.5"
  }
 },
 "nbformat": 4,
 "nbformat_minor": 4
}
